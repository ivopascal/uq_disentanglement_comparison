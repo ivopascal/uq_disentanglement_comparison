{
 "cells": [
  {
   "cell_type": "code",
   "execution_count": 1,
   "id": "118bfeb7",
   "metadata": {
    "_cell_guid": "b1076dfc-b9ad-4769-8c92-a6c4dae69d19",
    "_uuid": "8f2839f25d086af736a60e9eeb907d3b93b6e0e5",
    "papermill": {
     "duration": 16.451807,
     "end_time": "2024-12-11T04:33:54.105381",
     "exception": false,
     "start_time": "2024-12-11T04:33:37.653574",
     "status": "completed"
    },
    "tags": []
   },
   "outputs": [],
   "source": [
    "import pandas as pd\n",
    "import numpy as np\n",
    "import os\n",
    "import matplotlib.pyplot as plt\n",
    "import seaborn as sns\n",
    "import warnings\n",
    "from tqdm.notebook import tqdm\n",
    "warnings.filterwarnings('ignore')\n",
    "%matplotlib inline\n",
    "import tensorflow as tf\n",
    "from tensorflow import keras\n",
    "from keras.preprocessing.image import load_img\n",
    "from keras.models import Sequential, Model\n",
    "from keras.layers import Dense, Conv2D, Dropout, Flatten, MaxPooling2D, Input"
   ]
  },
  {
   "cell_type": "code",
   "execution_count": 2,
   "id": "ee08b915",
   "metadata": {
    "papermill": {
     "duration": 0.016975,
     "end_time": "2024-12-11T04:33:54.130475",
     "exception": false,
     "start_time": "2024-12-11T04:33:54.113500",
     "status": "completed"
    },
    "tags": []
   },
   "outputs": [],
   "source": [
    "base_dir='../datasets/UTKFace/'"
   ]
  },
  {
   "cell_type": "code",
   "execution_count": 3,
   "id": "ee11b1a4",
   "metadata": {
    "papermill": {
     "duration": 2.385638,
     "end_time": "2024-12-11T04:33:56.523960",
     "exception": false,
     "start_time": "2024-12-11T04:33:54.138322",
     "status": "completed"
    },
    "tags": []
   },
   "outputs": [
    {
     "data": {
      "application/vnd.jupyter.widget-view+json": {
       "model_id": "b510e285a92b49fd8a4a76a7152e7e40",
       "version_major": 2,
       "version_minor": 0
      },
      "text/plain": [
       "  0%|          | 0/23708 [00:00<?, ?it/s]"
      ]
     },
     "metadata": {},
     "output_type": "display_data"
    }
   ],
   "source": [
    "image_paths=[]\n",
    "age_labels=[]\n",
    "gender_labels=[]\n",
    "\n",
    "for filename in tqdm(os.listdir(base_dir)):\n",
    "    image_path=os.path.join(base_dir,filename)\n",
    "    temp=filename.split('_')\n",
    "    try:\n",
    "        age=int(temp[0])\n",
    "        gender=int(temp[1])\n",
    "    except ValueError:\n",
    "        print(filename)\n",
    "    image_paths.append(image_path)\n",
    "    age_labels.append(age)\n",
    "    gender_labels.append(gender)"
   ]
  },
  {
   "cell_type": "code",
   "execution_count": 4,
   "id": "979781dc",
   "metadata": {
    "papermill": {
     "duration": 0.044026,
     "end_time": "2024-12-11T04:33:56.602368",
     "exception": false,
     "start_time": "2024-12-11T04:33:56.558342",
     "status": "completed"
    },
    "tags": []
   },
   "outputs": [],
   "source": [
    "df=pd.DataFrame()\n",
    "df['image'],df['age'],df['gender']=image_paths,age_labels,gender_labels"
   ]
  },
  {
   "cell_type": "code",
   "execution_count": 5,
   "id": "a53afe15",
   "metadata": {
    "papermill": {
     "duration": 0.016693,
     "end_time": "2024-12-11T04:33:56.693579",
     "exception": false,
     "start_time": "2024-12-11T04:33:56.676886",
     "status": "completed"
    },
    "tags": []
   },
   "outputs": [],
   "source": [
    "gender_dic={0:'Male',1:'Female'}"
   ]
  },
  {
   "cell_type": "code",
   "execution_count": 6,
   "id": "622385cf",
   "metadata": {
    "papermill": {
     "duration": 0.145235,
     "end_time": "2024-12-11T04:33:56.847269",
     "exception": false,
     "start_time": "2024-12-11T04:33:56.702034",
     "status": "completed"
    },
    "tags": []
   },
   "outputs": [],
   "source": [
    "from sklearn.utils import shuffle\n",
    "df = shuffle(df)"
   ]
  },
  {
   "cell_type": "code",
   "execution_count": 7,
   "id": "01aeff79",
   "metadata": {
    "papermill": {
     "duration": 0.022903,
     "end_time": "2024-12-11T04:33:56.878428",
     "exception": false,
     "start_time": "2024-12-11T04:33:56.855525",
     "status": "completed"
    },
    "tags": []
   },
   "outputs": [
    {
     "data": {
      "text/html": [
       "<div>\n",
       "<style scoped>\n",
       "    .dataframe tbody tr th:only-of-type {\n",
       "        vertical-align: middle;\n",
       "    }\n",
       "\n",
       "    .dataframe tbody tr th {\n",
       "        vertical-align: top;\n",
       "    }\n",
       "\n",
       "    .dataframe thead th {\n",
       "        text-align: right;\n",
       "    }\n",
       "</style>\n",
       "<table border=\"1\" class=\"dataframe\">\n",
       "  <thead>\n",
       "    <tr style=\"text-align: right;\">\n",
       "      <th></th>\n",
       "      <th>image</th>\n",
       "      <th>age</th>\n",
       "      <th>gender</th>\n",
       "    </tr>\n",
       "  </thead>\n",
       "  <tbody>\n",
       "    <tr>\n",
       "      <th>9802</th>\n",
       "      <td>../datasets/UTKFace/60_0_3_20170119204312254.j...</td>\n",
       "      <td>60</td>\n",
       "      <td>0</td>\n",
       "    </tr>\n",
       "    <tr>\n",
       "      <th>22551</th>\n",
       "      <td>../datasets/UTKFace/14_1_0_20170109204620092.j...</td>\n",
       "      <td>14</td>\n",
       "      <td>1</td>\n",
       "    </tr>\n",
       "    <tr>\n",
       "      <th>5176</th>\n",
       "      <td>../datasets/UTKFace/46_0_3_20170119183130575.j...</td>\n",
       "      <td>46</td>\n",
       "      <td>0</td>\n",
       "    </tr>\n",
       "    <tr>\n",
       "      <th>19276</th>\n",
       "      <td>../datasets/UTKFace/35_1_2_20170116191713117.j...</td>\n",
       "      <td>35</td>\n",
       "      <td>1</td>\n",
       "    </tr>\n",
       "    <tr>\n",
       "      <th>10997</th>\n",
       "      <td>../datasets/UTKFace/38_1_0_20170116003418066.j...</td>\n",
       "      <td>38</td>\n",
       "      <td>1</td>\n",
       "    </tr>\n",
       "  </tbody>\n",
       "</table>\n",
       "</div>"
      ],
      "text/plain": [
       "                                                   image  age  gender\n",
       "9802   ../datasets/UTKFace/60_0_3_20170119204312254.j...   60       0\n",
       "22551  ../datasets/UTKFace/14_1_0_20170109204620092.j...   14       1\n",
       "5176   ../datasets/UTKFace/46_0_3_20170119183130575.j...   46       0\n",
       "19276  ../datasets/UTKFace/35_1_2_20170116191713117.j...   35       1\n",
       "10997  ../datasets/UTKFace/38_1_0_20170116003418066.j...   38       1"
      ]
     },
     "execution_count": 7,
     "metadata": {},
     "output_type": "execute_result"
    }
   ],
   "source": [
    "df.head()"
   ]
  },
  {
   "cell_type": "code",
   "execution_count": 8,
   "id": "94332485",
   "metadata": {
    "papermill": {
     "duration": 0.026995,
     "end_time": "2024-12-11T04:33:57.613063",
     "exception": false,
     "start_time": "2024-12-11T04:33:57.586068",
     "status": "completed"
    },
    "tags": []
   },
   "outputs": [
    {
     "data": {
      "text/plain": [
       "array([0, 1])"
      ]
     },
     "execution_count": 8,
     "metadata": {},
     "output_type": "execute_result"
    }
   ],
   "source": [
    "df['gender'].unique()"
   ]
  },
  {
   "cell_type": "code",
   "execution_count": 9,
   "id": "6a56ec19",
   "metadata": {
    "papermill": {
     "duration": 0.026495,
     "end_time": "2024-12-11T04:33:57.651303",
     "exception": false,
     "start_time": "2024-12-11T04:33:57.624808",
     "status": "completed"
    },
    "tags": []
   },
   "outputs": [
    {
     "data": {
      "text/html": [
       "<div>\n",
       "<style scoped>\n",
       "    .dataframe tbody tr th:only-of-type {\n",
       "        vertical-align: middle;\n",
       "    }\n",
       "\n",
       "    .dataframe tbody tr th {\n",
       "        vertical-align: top;\n",
       "    }\n",
       "\n",
       "    .dataframe thead th {\n",
       "        text-align: right;\n",
       "    }\n",
       "</style>\n",
       "<table border=\"1\" class=\"dataframe\">\n",
       "  <thead>\n",
       "    <tr style=\"text-align: right;\">\n",
       "      <th></th>\n",
       "      <th>image</th>\n",
       "      <th>age</th>\n",
       "      <th>gender</th>\n",
       "    </tr>\n",
       "  </thead>\n",
       "  <tbody>\n",
       "    <tr>\n",
       "      <th>9802</th>\n",
       "      <td>../datasets/UTKFace/60_0_3_20170119204312254.j...</td>\n",
       "      <td>60</td>\n",
       "      <td>0</td>\n",
       "    </tr>\n",
       "    <tr>\n",
       "      <th>22551</th>\n",
       "      <td>../datasets/UTKFace/14_1_0_20170109204620092.j...</td>\n",
       "      <td>14</td>\n",
       "      <td>1</td>\n",
       "    </tr>\n",
       "    <tr>\n",
       "      <th>5176</th>\n",
       "      <td>../datasets/UTKFace/46_0_3_20170119183130575.j...</td>\n",
       "      <td>46</td>\n",
       "      <td>0</td>\n",
       "    </tr>\n",
       "    <tr>\n",
       "      <th>19276</th>\n",
       "      <td>../datasets/UTKFace/35_1_2_20170116191713117.j...</td>\n",
       "      <td>35</td>\n",
       "      <td>1</td>\n",
       "    </tr>\n",
       "    <tr>\n",
       "      <th>10997</th>\n",
       "      <td>../datasets/UTKFace/38_1_0_20170116003418066.j...</td>\n",
       "      <td>38</td>\n",
       "      <td>1</td>\n",
       "    </tr>\n",
       "  </tbody>\n",
       "</table>\n",
       "</div>"
      ],
      "text/plain": [
       "                                                   image  age  gender\n",
       "9802   ../datasets/UTKFace/60_0_3_20170119204312254.j...   60       0\n",
       "22551  ../datasets/UTKFace/14_1_0_20170109204620092.j...   14       1\n",
       "5176   ../datasets/UTKFace/46_0_3_20170119183130575.j...   46       0\n",
       "19276  ../datasets/UTKFace/35_1_2_20170116191713117.j...   35       1\n",
       "10997  ../datasets/UTKFace/38_1_0_20170116003418066.j...   38       1"
      ]
     },
     "execution_count": 9,
     "metadata": {},
     "output_type": "execute_result"
    }
   ],
   "source": [
    "df.head()"
   ]
  },
  {
   "cell_type": "code",
   "execution_count": 10,
   "id": "794f5ee8",
   "metadata": {
    "papermill": {
     "duration": 0.021602,
     "end_time": "2024-12-11T04:33:57.685022",
     "exception": false,
     "start_time": "2024-12-11T04:33:57.663420",
     "status": "completed"
    },
    "tags": []
   },
   "outputs": [],
   "source": [
    "df['gender'] = df['gender'].replace({'Male': 0, 'Female': 1})"
   ]
  },
  {
   "cell_type": "code",
   "execution_count": 11,
   "id": "5b5acc49",
   "metadata": {
    "papermill": {
     "duration": 0.026075,
     "end_time": "2024-12-11T04:33:57.722787",
     "exception": false,
     "start_time": "2024-12-11T04:33:57.696712",
     "status": "completed"
    },
    "tags": []
   },
   "outputs": [
    {
     "data": {
      "text/html": [
       "<div>\n",
       "<style scoped>\n",
       "    .dataframe tbody tr th:only-of-type {\n",
       "        vertical-align: middle;\n",
       "    }\n",
       "\n",
       "    .dataframe tbody tr th {\n",
       "        vertical-align: top;\n",
       "    }\n",
       "\n",
       "    .dataframe thead th {\n",
       "        text-align: right;\n",
       "    }\n",
       "</style>\n",
       "<table border=\"1\" class=\"dataframe\">\n",
       "  <thead>\n",
       "    <tr style=\"text-align: right;\">\n",
       "      <th></th>\n",
       "      <th>image</th>\n",
       "      <th>age</th>\n",
       "      <th>gender</th>\n",
       "    </tr>\n",
       "  </thead>\n",
       "  <tbody>\n",
       "    <tr>\n",
       "      <th>9802</th>\n",
       "      <td>../datasets/UTKFace/60_0_3_20170119204312254.j...</td>\n",
       "      <td>60</td>\n",
       "      <td>0</td>\n",
       "    </tr>\n",
       "    <tr>\n",
       "      <th>22551</th>\n",
       "      <td>../datasets/UTKFace/14_1_0_20170109204620092.j...</td>\n",
       "      <td>14</td>\n",
       "      <td>1</td>\n",
       "    </tr>\n",
       "    <tr>\n",
       "      <th>5176</th>\n",
       "      <td>../datasets/UTKFace/46_0_3_20170119183130575.j...</td>\n",
       "      <td>46</td>\n",
       "      <td>0</td>\n",
       "    </tr>\n",
       "    <tr>\n",
       "      <th>19276</th>\n",
       "      <td>../datasets/UTKFace/35_1_2_20170116191713117.j...</td>\n",
       "      <td>35</td>\n",
       "      <td>1</td>\n",
       "    </tr>\n",
       "    <tr>\n",
       "      <th>10997</th>\n",
       "      <td>../datasets/UTKFace/38_1_0_20170116003418066.j...</td>\n",
       "      <td>38</td>\n",
       "      <td>1</td>\n",
       "    </tr>\n",
       "  </tbody>\n",
       "</table>\n",
       "</div>"
      ],
      "text/plain": [
       "                                                   image  age  gender\n",
       "9802   ../datasets/UTKFace/60_0_3_20170119204312254.j...   60       0\n",
       "22551  ../datasets/UTKFace/14_1_0_20170109204620092.j...   14       1\n",
       "5176   ../datasets/UTKFace/46_0_3_20170119183130575.j...   46       0\n",
       "19276  ../datasets/UTKFace/35_1_2_20170116191713117.j...   35       1\n",
       "10997  ../datasets/UTKFace/38_1_0_20170116003418066.j...   38       1"
      ]
     },
     "execution_count": 11,
     "metadata": {},
     "output_type": "execute_result"
    }
   ],
   "source": [
    "df.head()"
   ]
  },
  {
   "cell_type": "code",
   "execution_count": 26,
   "id": "abf4e0ec-116c-42d0-892f-c714edb22a0c",
   "metadata": {},
   "outputs": [],
   "source": [
    "df = df[df['age'] <= 60] # Constrain to 21-60 according to \"Deep Ordinal Regression with Label Diversity\"\n",
    "df = df[df['age'] > 20]\n",
    "df = df[:1000]"
   ]
  },
  {
   "cell_type": "code",
   "execution_count": 27,
   "id": "b5a06a08",
   "metadata": {
    "papermill": {
     "duration": 0.053075,
     "end_time": "2024-12-11T04:34:01.899401",
     "exception": false,
     "start_time": "2024-12-11T04:34:01.846326",
     "status": "completed"
    },
    "tags": []
   },
   "outputs": [],
   "source": [
    "from PIL import Image\n",
    "def extract_features(images):\n",
    "    features = []\n",
    "    for image in tqdm(images):\n",
    "        img = load_img(image)\n",
    "        img = img.resize((128, 128), Image.LANCZOS)\n",
    "        img = np.array(img)\n",
    "        features.append(img)    \n",
    "    features = np.array(features)\n",
    "    return features"
   ]
  },
  {
   "cell_type": "code",
   "execution_count": 28,
   "id": "463671ef",
   "metadata": {
    "papermill": {
     "duration": 334.378651,
     "end_time": "2024-12-11T04:39:36.319573",
     "exception": false,
     "start_time": "2024-12-11T04:34:01.940922",
     "status": "completed"
    },
    "tags": []
   },
   "outputs": [
    {
     "data": {
      "application/vnd.jupyter.widget-view+json": {
       "model_id": "670dbd855d5e4a268be18081f16d2973",
       "version_major": 2,
       "version_minor": 0
      },
      "text/plain": [
       "  0%|          | 0/1000 [00:00<?, ?it/s]"
      ]
     },
     "metadata": {},
     "output_type": "display_data"
    }
   ],
   "source": [
    "X = extract_features(df['image'])"
   ]
  },
  {
   "cell_type": "code",
   "execution_count": 29,
   "id": "e64800ab",
   "metadata": {
    "papermill": {
     "duration": 0.053474,
     "end_time": "2024-12-11T04:39:36.414213",
     "exception": false,
     "start_time": "2024-12-11T04:39:36.360739",
     "status": "completed"
    },
    "tags": []
   },
   "outputs": [
    {
     "data": {
      "text/plain": [
       "(1000, 128, 128, 3)"
      ]
     },
     "execution_count": 29,
     "metadata": {},
     "output_type": "execute_result"
    }
   ],
   "source": [
    "X.shape"
   ]
  },
  {
   "cell_type": "code",
   "execution_count": 30,
   "id": "a5153bc8",
   "metadata": {
    "papermill": {
     "duration": 4.174683,
     "end_time": "2024-12-11T04:39:40.630502",
     "exception": false,
     "start_time": "2024-12-11T04:39:36.455819",
     "status": "completed"
    },
    "tags": []
   },
   "outputs": [],
   "source": [
    "X=X/255.0"
   ]
  },
  {
   "cell_type": "code",
   "execution_count": 31,
   "id": "441a7abb",
   "metadata": {
    "papermill": {
     "duration": 0.055101,
     "end_time": "2024-12-11T04:39:40.727978",
     "exception": false,
     "start_time": "2024-12-11T04:39:40.672877",
     "status": "completed"
    },
    "tags": []
   },
   "outputs": [],
   "source": [
    "y_age=np.array(df['age']) \n",
    "y_gender=np.array(df['gender'])"
   ]
  },
  {
   "cell_type": "code",
   "execution_count": 32,
   "id": "26c439c8-88a3-409c-a982-8e1a68f34139",
   "metadata": {},
   "outputs": [
    {
     "data": {
      "text/plain": [
       "array([60, 46, 35, 38, 48, 24, 37, 46, 30, 60, 27, 21, 24, 26, 49, 26, 24,\n",
       "       39, 26, 39, 36, 21, 28, 31, 26, 30, 26, 28, 38, 27, 26, 26, 52, 35,\n",
       "       26, 52, 30, 28, 52, 58, 28, 32, 24, 27, 60, 32, 24, 30, 37, 60, 30,\n",
       "       26, 36, 32, 47, 27, 52, 59, 57, 49, 40, 28, 45, 32, 45, 59, 26, 26,\n",
       "       33, 58, 44, 29, 28, 26, 35, 31, 54, 40, 26, 26, 55, 23, 39, 28, 27,\n",
       "       24, 54, 35, 26, 58, 28, 50, 30, 29, 30, 54, 36, 58, 34, 54, 56, 32,\n",
       "       30, 45, 34, 46, 44, 51, 25, 60, 56, 24, 22, 26, 39, 38, 23, 40, 40,\n",
       "       27, 23, 52, 35, 24, 29, 35, 46, 32, 35, 45, 37, 21, 26, 28, 43, 55,\n",
       "       30, 36, 52, 40, 35, 45, 36, 53, 29, 52, 26, 54, 29, 35, 29, 55, 35,\n",
       "       28, 24, 30, 32, 35, 35, 25, 35, 23, 30, 22, 26, 25, 52, 56, 26, 25,\n",
       "       25, 25, 26, 37, 34, 31, 28, 31, 36, 35, 26, 50, 28, 25, 24, 29, 26,\n",
       "       28, 58, 50, 26, 32, 26, 23, 26, 27, 31, 24, 50, 35, 24, 26, 26, 31,\n",
       "       40, 35, 28, 26, 26, 35, 27, 30, 35, 25, 40, 45, 35, 36, 34, 26, 54,\n",
       "       26, 40, 24, 34, 37, 26, 45, 54, 36, 26, 30, 23, 26, 26, 35, 21, 26,\n",
       "       32, 46, 26, 26, 50, 23, 32, 24, 24, 24, 26, 59, 57, 22, 30, 35, 28,\n",
       "       31, 30, 39, 54, 36, 26, 55, 51, 60, 26, 36, 36, 23, 23, 22, 39, 35,\n",
       "       24, 25, 28, 29, 25, 27, 25, 24, 24, 30, 35, 51, 52, 38, 30, 26, 50,\n",
       "       26, 27, 26, 27, 31, 34, 56, 24, 56, 26, 28, 30, 51, 34, 26, 35, 45,\n",
       "       35, 59, 40, 21, 55, 26, 38, 24, 45, 39, 38, 35, 34, 32, 26, 31, 23,\n",
       "       22, 28, 32, 30, 30, 40, 26, 30, 34, 21, 24, 40, 28, 60, 54, 40, 42,\n",
       "       50, 40, 32, 58, 45, 26, 56, 26, 52, 31, 31, 26, 51, 28, 51, 26, 27,\n",
       "       50, 32, 21, 32, 31, 35, 34, 27, 30, 42, 30, 24, 25, 26, 24, 30, 26,\n",
       "       24, 60, 26, 51, 23, 38, 51, 40, 29, 24, 31, 43, 35, 41, 30, 26, 38,\n",
       "       45, 49, 32, 26, 59, 26, 32, 47, 21, 48, 55, 54, 24, 40, 50, 30, 45,\n",
       "       40, 24, 33, 24, 28, 59, 55, 26, 35, 60, 27, 35, 35, 30, 39, 26, 23,\n",
       "       46, 25, 21, 46, 32, 41, 36, 26, 54, 23, 54, 51, 32, 29, 31, 34, 43,\n",
       "       35, 26, 26, 58, 39, 26, 28, 54, 40, 50, 35, 23, 35, 26, 38, 42, 39,\n",
       "       29, 25, 27, 52, 24, 28, 34, 33, 53, 37, 26, 58, 49, 32, 53, 32, 26,\n",
       "       30, 28, 24, 42, 29, 56, 34, 26, 25, 41, 26, 42, 25, 35, 32, 41, 32,\n",
       "       60, 60, 24, 24, 52, 26, 58, 52, 21, 24, 25, 54, 26, 23, 56, 56, 24,\n",
       "       26, 39, 23, 29, 60, 60, 38, 26, 34, 45, 27, 39, 32, 28, 29, 48, 28,\n",
       "       28, 30, 55, 35, 56, 29, 49, 34, 54, 27, 39, 25, 42, 25, 21, 28, 21,\n",
       "       56, 32, 48, 45, 40, 26, 28, 40, 24, 26, 41, 54, 55, 30, 23, 41, 38,\n",
       "       35, 45, 36, 37, 21, 44, 35, 35, 40, 51, 49, 29, 46, 32, 36, 47, 27,\n",
       "       24, 27, 30, 51, 35, 38, 45, 24, 29, 32, 23, 29, 25, 28, 41, 60, 34,\n",
       "       48, 39, 46, 31, 34, 37, 45, 34, 37, 50, 33, 29, 39, 28, 31, 27, 32,\n",
       "       21, 28, 35, 37, 27, 53, 47, 35, 25, 30, 45, 26, 45, 60, 29, 32, 24,\n",
       "       35, 55, 29, 42, 54, 56, 26, 32, 28, 41, 28, 50, 24, 28, 26, 52, 25,\n",
       "       27, 26, 31, 31, 50, 26, 33, 58, 38, 29, 22, 31, 29, 59, 52, 56, 60,\n",
       "       30, 24, 26, 29, 34, 53, 30, 36, 58, 52, 33, 35, 25, 40, 27, 29, 36,\n",
       "       58, 26, 36, 25, 36, 47, 24, 32, 22, 34, 56, 22, 40, 26, 45, 28, 55,\n",
       "       24, 32, 26, 52, 50, 30, 26, 22, 24, 27, 25, 26, 35, 26, 57, 30, 38,\n",
       "       32, 56, 30, 26, 27, 35, 34, 41, 23, 46, 56, 23, 25, 28, 35, 26, 24,\n",
       "       42, 36, 32, 32, 52, 24, 26, 47, 29, 22, 22, 30, 28, 26, 23, 28, 34,\n",
       "       26, 24, 22, 35, 48, 34, 42, 52, 32, 40, 35, 30, 39, 36, 35, 23, 26,\n",
       "       32, 23, 26, 26, 58, 22, 33, 24, 25, 32, 23, 29, 30, 26, 27, 36, 24,\n",
       "       32, 25, 60, 26, 27, 30, 45, 50, 30, 25, 42, 37, 54, 21, 39, 26, 29,\n",
       "       27, 38, 26, 25, 54, 36, 25, 21, 24, 36, 38, 40, 22, 32, 31, 28, 35,\n",
       "       28, 36, 40, 30, 56, 29, 39, 26, 57, 24, 28, 35, 37, 25, 35, 22, 26,\n",
       "       21, 35, 22, 26, 45, 35, 40, 36, 35, 28, 29, 32, 26, 26, 24, 58, 29,\n",
       "       24, 32, 28, 26, 58, 35, 28, 32, 34, 38, 25, 25, 27, 26, 57, 54, 24,\n",
       "       21, 37, 28, 35, 25, 22, 36, 35, 26, 31, 26, 25, 54, 26, 30, 40, 38,\n",
       "       35, 54, 24, 35, 30, 26, 30, 55, 38, 24, 23, 56, 27, 42, 56, 26, 34,\n",
       "       26, 58, 23, 34, 24, 49, 37, 29, 24, 33, 50, 25, 30, 54, 27, 32, 42,\n",
       "       37, 35, 39, 26, 32, 30, 30, 29, 49, 36, 30, 45, 26, 29, 25, 28, 28,\n",
       "       54, 55, 25, 36, 40, 26, 25, 57, 34, 43, 26, 45, 30, 26, 44, 29, 46,\n",
       "       40, 32, 51, 27, 23, 26, 33, 27, 26, 36, 28, 25, 30, 23, 32, 50, 47,\n",
       "       38, 50, 26, 30, 45, 22, 30, 34, 37, 35, 26, 25, 32, 30, 40, 58, 37,\n",
       "       24, 49, 50, 42, 39, 26, 50, 48, 48, 58, 52, 31, 24, 26])"
      ]
     },
     "execution_count": 32,
     "metadata": {},
     "output_type": "execute_result"
    }
   ],
   "source": [
    "y_age"
   ]
  },
  {
   "cell_type": "code",
   "execution_count": 33,
   "id": "90f5f2a0",
   "metadata": {
    "papermill": {
     "duration": 0.053696,
     "end_time": "2024-12-11T04:39:40.825072",
     "exception": false,
     "start_time": "2024-12-11T04:39:40.771376",
     "status": "completed"
    },
    "tags": []
   },
   "outputs": [],
   "source": [
    "input_shape=(128,128,3)"
   ]
  },
  {
   "cell_type": "code",
   "execution_count": 34,
   "id": "f43c156b",
   "metadata": {
    "papermill": {
     "duration": 0.247236,
     "end_time": "2024-12-11T04:39:41.114706",
     "exception": false,
     "start_time": "2024-12-11T04:39:40.867470",
     "status": "completed"
    },
    "tags": []
   },
   "outputs": [],
   "source": [
    "inputs = Input((input_shape))\n",
    "conv_1 = Conv2D(32, kernel_size=(3, 3), activation='relu') (inputs)\n",
    "maxp_1 = MaxPooling2D(pool_size=(2, 2)) (conv_1)\n",
    "conv_2 = Conv2D(64, kernel_size=(3, 3), activation='relu') (maxp_1)\n",
    "maxp_2 = MaxPooling2D(pool_size=(2, 2)) (conv_2)\n",
    "conv_3 = Conv2D(128, kernel_size=(3, 3), activation='relu') (maxp_2)\n",
    "maxp_3 = MaxPooling2D(pool_size=(2, 2)) (conv_3)\n",
    "conv_4 = Conv2D(256, kernel_size=(3, 3), activation='relu') (maxp_3)\n",
    "maxp_4 = MaxPooling2D(pool_size=(2, 2)) (conv_4)\n",
    "\n",
    "flatten = Flatten() (maxp_4)\n",
    "\n",
    "# fully connected layers\n",
    "dense_1 = Dense(256, activation='relu') (flatten)\n",
    "dense_2 = Dense(256, activation='relu') (flatten)\n",
    "\n",
    "dropout_1 = Dropout(0.4) (dense_1)\n",
    "dropout_2 = Dropout(0.3) (dense_2)\n",
    "\n",
    "# output_1 = Dense(1, activation='sigmoid', name='gender_out') (dropout_1)\n",
    "output_2 = Dense(1, activation='relu', name='age_out') (dropout_2)\n",
    "model = Model(inputs=[inputs], outputs=[output_2])\n",
    "\n",
    "model.compile(loss=['mae'], optimizer=tf.keras.optimizers.legacy.Adam(learning_rate=0.0001),\n",
    "              metrics=['mae'])"
   ]
  },
  {
   "cell_type": "code",
   "execution_count": 36,
   "id": "ed9b4816",
   "metadata": {
    "papermill": {
     "duration": 3854.931486,
     "end_time": "2024-12-11T05:43:56.529994",
     "exception": false,
     "start_time": "2024-12-11T04:39:41.598508",
     "status": "completed"
    },
    "tags": []
   },
   "outputs": [
    {
     "name": "stdout",
     "output_type": "stream",
     "text": [
      "Epoch 1/100\n",
      "25/25 [==============================] - 1s 32ms/step - loss: 8.9536 - mae: 8.9536 - val_loss: 8.7860 - val_mae: 8.7860\n",
      "Epoch 2/100\n",
      "25/25 [==============================] - 1s 29ms/step - loss: 8.9141 - mae: 8.9141 - val_loss: 9.0391 - val_mae: 9.0391\n",
      "Epoch 3/100\n",
      "25/25 [==============================] - 1s 30ms/step - loss: 8.9309 - mae: 8.9309 - val_loss: 8.7934 - val_mae: 8.7934\n",
      "Epoch 4/100\n",
      "25/25 [==============================] - 1s 28ms/step - loss: 8.9907 - mae: 8.9907 - val_loss: 8.5221 - val_mae: 8.5221\n",
      "Epoch 5/100\n",
      "25/25 [==============================] - 1s 26ms/step - loss: 8.6754 - mae: 8.6754 - val_loss: 8.4569 - val_mae: 8.4569\n",
      "Epoch 6/100\n",
      "25/25 [==============================] - 1s 26ms/step - loss: 8.5629 - mae: 8.5629 - val_loss: 8.7685 - val_mae: 8.7685\n",
      "Epoch 7/100\n",
      "25/25 [==============================] - 1s 28ms/step - loss: 8.3543 - mae: 8.3543 - val_loss: 8.4880 - val_mae: 8.4880\n",
      "Epoch 8/100\n",
      "25/25 [==============================] - 1s 29ms/step - loss: 8.2639 - mae: 8.2639 - val_loss: 7.9938 - val_mae: 7.9938\n",
      "Epoch 9/100\n",
      "25/25 [==============================] - 1s 29ms/step - loss: 8.0426 - mae: 8.0426 - val_loss: 8.1441 - val_mae: 8.1441\n",
      "Epoch 10/100\n",
      "25/25 [==============================] - 1s 29ms/step - loss: 7.8239 - mae: 7.8239 - val_loss: 7.7806 - val_mae: 7.7806\n",
      "Epoch 11/100\n",
      "25/25 [==============================] - 1s 29ms/step - loss: 7.7563 - mae: 7.7563 - val_loss: 9.2027 - val_mae: 9.2027\n",
      "Epoch 12/100\n",
      "25/25 [==============================] - 1s 29ms/step - loss: 8.1241 - mae: 8.1241 - val_loss: 7.6957 - val_mae: 7.6957\n",
      "Epoch 13/100\n",
      "25/25 [==============================] - 1s 29ms/step - loss: 7.8180 - mae: 7.8180 - val_loss: 7.6274 - val_mae: 7.6274\n",
      "Epoch 14/100\n",
      "25/25 [==============================] - 1s 29ms/step - loss: 7.6492 - mae: 7.6492 - val_loss: 7.6480 - val_mae: 7.6480\n",
      "Epoch 15/100\n",
      "25/25 [==============================] - 1s 29ms/step - loss: 7.7775 - mae: 7.7775 - val_loss: 8.6488 - val_mae: 8.6488\n",
      "Epoch 16/100\n",
      "25/25 [==============================] - 1s 29ms/step - loss: 8.0480 - mae: 8.0480 - val_loss: 7.7726 - val_mae: 7.7726\n",
      "Epoch 17/100\n",
      "25/25 [==============================] - 1s 29ms/step - loss: 7.4021 - mae: 7.4021 - val_loss: 7.5354 - val_mae: 7.5354\n",
      "Epoch 18/100\n",
      "25/25 [==============================] - 1s 29ms/step - loss: 7.3269 - mae: 7.3269 - val_loss: 7.4261 - val_mae: 7.4261\n",
      "Epoch 19/100\n",
      "25/25 [==============================] - 1s 29ms/step - loss: 7.3585 - mae: 7.3585 - val_loss: 7.4648 - val_mae: 7.4648\n",
      "Epoch 20/100\n",
      "25/25 [==============================] - 1s 28ms/step - loss: 7.6182 - mae: 7.6182 - val_loss: 7.6119 - val_mae: 7.6119\n",
      "Epoch 21/100\n",
      "25/25 [==============================] - 1s 29ms/step - loss: 7.3104 - mae: 7.3104 - val_loss: 7.6422 - val_mae: 7.6422\n",
      "Epoch 22/100\n",
      "25/25 [==============================] - 1s 30ms/step - loss: 7.3592 - mae: 7.3592 - val_loss: 7.5641 - val_mae: 7.5641\n",
      "Epoch 23/100\n",
      "25/25 [==============================] - 1s 29ms/step - loss: 7.5004 - mae: 7.5004 - val_loss: 7.5814 - val_mae: 7.5814\n",
      "Epoch 24/100\n",
      "25/25 [==============================] - 1s 29ms/step - loss: 7.1552 - mae: 7.1552 - val_loss: 7.8800 - val_mae: 7.8800\n",
      "Epoch 25/100\n",
      "25/25 [==============================] - 1s 34ms/step - loss: 7.1815 - mae: 7.1815 - val_loss: 7.5764 - val_mae: 7.5764\n",
      "Epoch 26/100\n",
      "25/25 [==============================] - 1s 29ms/step - loss: 7.3215 - mae: 7.3215 - val_loss: 7.3708 - val_mae: 7.3708\n",
      "Epoch 27/100\n",
      "25/25 [==============================] - 1s 29ms/step - loss: 7.3914 - mae: 7.3914 - val_loss: 7.7228 - val_mae: 7.7228\n",
      "Epoch 28/100\n",
      "25/25 [==============================] - 1s 28ms/step - loss: 7.4365 - mae: 7.4365 - val_loss: 7.3934 - val_mae: 7.3934\n",
      "Epoch 29/100\n",
      "25/25 [==============================] - 1s 28ms/step - loss: 7.1200 - mae: 7.1200 - val_loss: 7.4269 - val_mae: 7.4269\n",
      "Epoch 30/100\n",
      "25/25 [==============================] - 1s 28ms/step - loss: 7.4315 - mae: 7.4315 - val_loss: 8.0435 - val_mae: 8.0435\n",
      "Epoch 31/100\n",
      "25/25 [==============================] - 1s 28ms/step - loss: 7.0524 - mae: 7.0524 - val_loss: 7.4544 - val_mae: 7.4544\n",
      "Epoch 32/100\n",
      "25/25 [==============================] - 1s 28ms/step - loss: 6.8808 - mae: 6.8808 - val_loss: 7.3923 - val_mae: 7.3923\n",
      "Epoch 33/100\n",
      "25/25 [==============================] - 1s 28ms/step - loss: 7.0815 - mae: 7.0815 - val_loss: 7.3558 - val_mae: 7.3558\n",
      "Epoch 34/100\n",
      "25/25 [==============================] - 1s 28ms/step - loss: 6.8768 - mae: 6.8768 - val_loss: 7.3845 - val_mae: 7.3845\n",
      "Epoch 35/100\n",
      "25/25 [==============================] - 1s 28ms/step - loss: 6.8413 - mae: 6.8413 - val_loss: 7.3101 - val_mae: 7.3101\n",
      "Epoch 36/100\n",
      "25/25 [==============================] - 1s 28ms/step - loss: 6.8533 - mae: 6.8533 - val_loss: 7.5491 - val_mae: 7.5491\n",
      "Epoch 37/100\n",
      "25/25 [==============================] - 1s 30ms/step - loss: 6.8457 - mae: 6.8457 - val_loss: 7.3252 - val_mae: 7.3252\n",
      "Epoch 38/100\n",
      "25/25 [==============================] - 1s 32ms/step - loss: 7.0791 - mae: 7.0791 - val_loss: 7.4366 - val_mae: 7.4366\n",
      "Epoch 39/100\n",
      "25/25 [==============================] - 1s 28ms/step - loss: 6.7437 - mae: 6.7437 - val_loss: 7.4476 - val_mae: 7.4476\n",
      "Epoch 40/100\n",
      "25/25 [==============================] - 1s 27ms/step - loss: 6.7588 - mae: 6.7588 - val_loss: 7.6775 - val_mae: 7.6775\n",
      "Epoch 41/100\n",
      "25/25 [==============================] - 1s 27ms/step - loss: 6.7405 - mae: 6.7405 - val_loss: 7.6445 - val_mae: 7.6445\n",
      "Epoch 42/100\n",
      "25/25 [==============================] - 1s 29ms/step - loss: 6.7308 - mae: 6.7308 - val_loss: 7.4454 - val_mae: 7.4454\n",
      "Epoch 43/100\n",
      "25/25 [==============================] - 1s 30ms/step - loss: 6.6363 - mae: 6.6363 - val_loss: 7.7919 - val_mae: 7.7919\n",
      "Epoch 44/100\n",
      "25/25 [==============================] - 1s 30ms/step - loss: 6.7962 - mae: 6.7962 - val_loss: 7.4803 - val_mae: 7.4803\n",
      "Epoch 45/100\n",
      "25/25 [==============================] - 1s 29ms/step - loss: 6.6099 - mae: 6.6099 - val_loss: 7.3250 - val_mae: 7.3250\n",
      "Epoch 46/100\n",
      "25/25 [==============================] - 1s 30ms/step - loss: 6.4637 - mae: 6.4637 - val_loss: 7.5832 - val_mae: 7.5832\n",
      "Epoch 47/100\n",
      "25/25 [==============================] - 1s 30ms/step - loss: 6.5042 - mae: 6.5042 - val_loss: 7.3811 - val_mae: 7.3811\n",
      "Epoch 48/100\n",
      "25/25 [==============================] - 1s 30ms/step - loss: 6.3996 - mae: 6.3996 - val_loss: 7.4891 - val_mae: 7.4891\n",
      "Epoch 49/100\n",
      "25/25 [==============================] - 1s 30ms/step - loss: 6.8555 - mae: 6.8555 - val_loss: 7.4996 - val_mae: 7.4996\n",
      "Epoch 50/100\n",
      "25/25 [==============================] - 1s 29ms/step - loss: 6.3878 - mae: 6.3878 - val_loss: 7.3032 - val_mae: 7.3032\n",
      "Epoch 51/100\n",
      "25/25 [==============================] - 1s 36ms/step - loss: 6.4428 - mae: 6.4428 - val_loss: 7.4089 - val_mae: 7.4089\n",
      "Epoch 52/100\n",
      "25/25 [==============================] - 1s 29ms/step - loss: 6.7710 - mae: 6.7710 - val_loss: 7.3489 - val_mae: 7.3489\n",
      "Epoch 53/100\n",
      "25/25 [==============================] - 1s 31ms/step - loss: 6.2920 - mae: 6.2920 - val_loss: 7.3027 - val_mae: 7.3027\n",
      "Epoch 54/100\n",
      "25/25 [==============================] - 1s 29ms/step - loss: 6.2487 - mae: 6.2487 - val_loss: 7.2556 - val_mae: 7.2556\n",
      "Epoch 55/100\n",
      "25/25 [==============================] - 1s 29ms/step - loss: 6.2806 - mae: 6.2806 - val_loss: 7.2501 - val_mae: 7.2501\n",
      "Epoch 56/100\n",
      "25/25 [==============================] - 1s 29ms/step - loss: 6.2830 - mae: 6.2830 - val_loss: 7.5792 - val_mae: 7.5792\n",
      "Epoch 57/100\n",
      "25/25 [==============================] - 1s 29ms/step - loss: 6.2713 - mae: 6.2713 - val_loss: 7.4091 - val_mae: 7.4091\n",
      "Epoch 58/100\n",
      "25/25 [==============================] - 1s 29ms/step - loss: 6.1633 - mae: 6.1633 - val_loss: 7.2832 - val_mae: 7.2832\n",
      "Epoch 59/100\n",
      "25/25 [==============================] - 1s 30ms/step - loss: 7.0909 - mae: 7.0909 - val_loss: 8.3817 - val_mae: 8.3817\n",
      "Epoch 60/100\n",
      "25/25 [==============================] - 1s 34ms/step - loss: 6.4317 - mae: 6.4317 - val_loss: 7.4139 - val_mae: 7.4139\n",
      "Epoch 61/100\n",
      "25/25 [==============================] - 1s 29ms/step - loss: 6.0928 - mae: 6.0928 - val_loss: 7.3909 - val_mae: 7.3909\n",
      "Epoch 62/100\n",
      "25/25 [==============================] - 1s 28ms/step - loss: 5.9520 - mae: 5.9520 - val_loss: 7.5117 - val_mae: 7.5117\n",
      "Epoch 63/100\n",
      "25/25 [==============================] - 1s 27ms/step - loss: 6.1144 - mae: 6.1144 - val_loss: 7.4156 - val_mae: 7.4156\n",
      "Epoch 64/100\n",
      "25/25 [==============================] - 1s 27ms/step - loss: 6.0894 - mae: 6.0894 - val_loss: 7.4381 - val_mae: 7.4381\n",
      "Epoch 65/100\n",
      "25/25 [==============================] - 1s 27ms/step - loss: 6.0639 - mae: 6.0639 - val_loss: 7.3222 - val_mae: 7.3222\n",
      "Epoch 66/100\n",
      "25/25 [==============================] - 1s 28ms/step - loss: 6.1300 - mae: 6.1300 - val_loss: 7.3931 - val_mae: 7.3931\n",
      "Epoch 67/100\n",
      "25/25 [==============================] - 1s 28ms/step - loss: 5.9363 - mae: 5.9363 - val_loss: 7.7039 - val_mae: 7.7039\n",
      "Epoch 68/100\n",
      "25/25 [==============================] - 1s 28ms/step - loss: 5.9193 - mae: 5.9193 - val_loss: 7.3140 - val_mae: 7.3140\n",
      "Epoch 69/100\n",
      "25/25 [==============================] - 1s 32ms/step - loss: 5.8882 - mae: 5.8882 - val_loss: 7.3914 - val_mae: 7.3914\n",
      "Epoch 70/100\n",
      "25/25 [==============================] - 1s 30ms/step - loss: 5.9443 - mae: 5.9443 - val_loss: 7.3453 - val_mae: 7.3453\n",
      "Epoch 71/100\n",
      "25/25 [==============================] - 1s 28ms/step - loss: 5.8427 - mae: 5.8427 - val_loss: 7.3765 - val_mae: 7.3765\n",
      "Epoch 72/100\n",
      "25/25 [==============================] - 1s 30ms/step - loss: 5.7411 - mae: 5.7411 - val_loss: 7.5529 - val_mae: 7.5529\n",
      "Epoch 73/100\n",
      "25/25 [==============================] - 1s 28ms/step - loss: 5.9017 - mae: 5.9017 - val_loss: 7.8087 - val_mae: 7.8087\n",
      "Epoch 74/100\n",
      "25/25 [==============================] - 1s 29ms/step - loss: 5.8443 - mae: 5.8443 - val_loss: 7.3967 - val_mae: 7.3967\n",
      "Epoch 75/100\n",
      "25/25 [==============================] - 1s 30ms/step - loss: 5.7439 - mae: 5.7439 - val_loss: 7.7916 - val_mae: 7.7916\n",
      "Epoch 76/100\n",
      "25/25 [==============================] - 1s 30ms/step - loss: 5.7517 - mae: 5.7517 - val_loss: 7.6632 - val_mae: 7.6632\n",
      "Epoch 77/100\n",
      "25/25 [==============================] - 1s 30ms/step - loss: 5.8125 - mae: 5.8125 - val_loss: 7.8148 - val_mae: 7.8148\n",
      "Epoch 78/100\n",
      "25/25 [==============================] - 1s 29ms/step - loss: 5.6285 - mae: 5.6285 - val_loss: 7.5394 - val_mae: 7.5394\n",
      "Epoch 79/100\n",
      "25/25 [==============================] - 1s 31ms/step - loss: 5.7994 - mae: 5.7994 - val_loss: 7.5644 - val_mae: 7.5644\n",
      "Epoch 80/100\n",
      "25/25 [==============================] - 1s 34ms/step - loss: 5.6828 - mae: 5.6828 - val_loss: 7.4837 - val_mae: 7.4837\n",
      "Epoch 81/100\n",
      "25/25 [==============================] - 1s 35ms/step - loss: 5.5773 - mae: 5.5773 - val_loss: 8.1084 - val_mae: 8.1084\n",
      "Epoch 82/100\n",
      "25/25 [==============================] - 1s 36ms/step - loss: 5.7533 - mae: 5.7533 - val_loss: 7.5941 - val_mae: 7.5941\n",
      "Epoch 83/100\n",
      "25/25 [==============================] - 1s 35ms/step - loss: 5.5090 - mae: 5.5090 - val_loss: 7.5364 - val_mae: 7.5364\n",
      "Epoch 84/100\n",
      "25/25 [==============================] - 1s 36ms/step - loss: 5.6587 - mae: 5.6587 - val_loss: 7.5540 - val_mae: 7.5540\n",
      "Epoch 85/100\n",
      "25/25 [==============================] - 1s 34ms/step - loss: 5.5928 - mae: 5.5928 - val_loss: 7.5017 - val_mae: 7.5017\n",
      "Epoch 86/100\n",
      "25/25 [==============================] - 1s 31ms/step - loss: 5.7153 - mae: 5.7153 - val_loss: 7.5518 - val_mae: 7.5518\n",
      "Epoch 87/100\n",
      "25/25 [==============================] - 1s 35ms/step - loss: 5.6557 - mae: 5.6557 - val_loss: 7.5846 - val_mae: 7.5846\n",
      "Epoch 88/100\n",
      "25/25 [==============================] - 1s 30ms/step - loss: 5.4396 - mae: 5.4396 - val_loss: 7.6214 - val_mae: 7.6214\n",
      "Epoch 89/100\n",
      "25/25 [==============================] - 1s 30ms/step - loss: 5.3486 - mae: 5.3486 - val_loss: 7.6365 - val_mae: 7.6365\n",
      "Epoch 90/100\n",
      "25/25 [==============================] - 1s 29ms/step - loss: 5.4716 - mae: 5.4716 - val_loss: 7.6555 - val_mae: 7.6555\n",
      "Epoch 91/100\n",
      "25/25 [==============================] - 1s 30ms/step - loss: 5.6774 - mae: 5.6774 - val_loss: 7.6820 - val_mae: 7.6820\n",
      "Epoch 92/100\n",
      "25/25 [==============================] - 1s 30ms/step - loss: 5.3430 - mae: 5.3430 - val_loss: 7.7451 - val_mae: 7.7451\n",
      "Epoch 93/100\n",
      "25/25 [==============================] - 1s 29ms/step - loss: 5.4705 - mae: 5.4705 - val_loss: 8.1435 - val_mae: 8.1435\n",
      "Epoch 94/100\n",
      "25/25 [==============================] - 1s 33ms/step - loss: 5.7527 - mae: 5.7527 - val_loss: 7.9235 - val_mae: 7.9235\n",
      "Epoch 95/100\n",
      "25/25 [==============================] - 1s 30ms/step - loss: 5.4196 - mae: 5.4196 - val_loss: 7.8307 - val_mae: 7.8307\n",
      "Epoch 96/100\n",
      "25/25 [==============================] - 1s 28ms/step - loss: 5.4448 - mae: 5.4448 - val_loss: 7.7540 - val_mae: 7.7540\n",
      "Epoch 97/100\n",
      "25/25 [==============================] - 1s 27ms/step - loss: 5.7516 - mae: 5.7516 - val_loss: 7.6967 - val_mae: 7.6967\n",
      "Epoch 98/100\n",
      "25/25 [==============================] - 1s 28ms/step - loss: 5.2024 - mae: 5.2024 - val_loss: 7.8658 - val_mae: 7.8658\n",
      "Epoch 99/100\n",
      "25/25 [==============================] - 1s 27ms/step - loss: 5.3222 - mae: 5.3222 - val_loss: 7.6606 - val_mae: 7.6606\n",
      "Epoch 100/100\n",
      "25/25 [==============================] - 1s 27ms/step - loss: 5.1334 - mae: 5.1334 - val_loss: 7.8851 - val_mae: 7.8851\n"
     ]
    }
   ],
   "source": [
    "history = model.fit(x=X, y=[y_age], batch_size=32, epochs=100, validation_split=0.2)"
   ]
  },
  {
   "cell_type": "code",
   "execution_count": 24,
   "id": "4d77d85e",
   "metadata": {
    "papermill": {
     "duration": 1.031092,
     "end_time": "2024-12-11T05:44:02.591114",
     "exception": false,
     "start_time": "2024-12-11T05:44:01.560022",
     "status": "completed"
    },
    "tags": []
   },
   "outputs": [],
   "source": [
    "# acc = history.history['gender_out_accuracy']\n",
    "# val_acc = history.history['val_gender_out_accuracy']\n",
    "# epochs = range(len(acc))\n",
    "\n",
    "# plt.plot(epochs, acc, 'b', label='Training Accuracy')\n",
    "# plt.plot(epochs, val_acc, 'r', label='Validation Accuracy')\n",
    "# plt.title('Accuracy Graph')\n",
    "# plt.legend()\n",
    "# plt.figure()\n",
    "\n",
    "# loss = history.history['loss']\n",
    "# val_loss = history.history['val_loss']\n",
    "\n",
    "# plt.plot(epochs, loss, 'b', label='Training Loss')\n",
    "# plt.plot(epochs, val_loss, 'r', label='Validation Loss')\n",
    "# plt.title('Loss Graph')\n",
    "# plt.legend()\n",
    "# plt.show()"
   ]
  },
  {
   "cell_type": "code",
   "execution_count": 25,
   "id": "a77d3e6e",
   "metadata": {
    "papermill": {
     "duration": 0.62007,
     "end_time": "2024-12-11T05:44:03.608783",
     "exception": false,
     "start_time": "2024-12-11T05:44:02.988713",
     "status": "completed"
    },
    "tags": []
   },
   "outputs": [
    {
     "data": {
      "image/png": "[encoded data removed]",
      "text/plain": [
       "<Figure size 640x480 with 1 Axes>"
      ]
     },
     "metadata": {},
     "output_type": "display_data"
    }
   ],
   "source": [
    "loss = history.history['mae']\n",
    "val_loss = history.history['val_mae']\n",
    "epochs = range(len(loss))\n",
    "\n",
    "plt.plot(epochs, loss, 'b', label='Training MAE')\n",
    "plt.plot(epochs, val_loss, 'r', label='Validation MAE')\n",
    "plt.title('Loss Graph')\n",
    "plt.legend()\n",
    "plt.show()"
   ]
  },
  {
   "cell_type": "code",
   "execution_count": null,
   "id": "058642fe-93ee-47b8-9e4f-eb16b635dc0f",
   "metadata": {},
   "outputs": [],
   "source": []
  }
 ],
 "metadata": {
  "kaggle": {
   "accelerator": "none",
   "dataSources": [
    {
     "datasetId": 44109,
     "sourceId": 78156,
     "sourceType": "datasetVersion"
    }
   ],
   "dockerImageVersionId": 30698,
   "isGpuEnabled": false,
   "isInternetEnabled": false,
   "language": "python",
   "sourceType": "notebook"
  },
  "kernelspec": {
   "display_name": "Python 3 (ipykernel)",
   "language": "python",
   "name": "python3"
  },
  "language_info": {
   "codemirror_mode": {
    "name": "ipython",
    "version": 3
   },
   "file_extension": ".py",
   "mimetype": "text/x-python",
   "name": "python",
   "nbconvert_exporter": "python",
   "pygments_lexer": "ipython3",
   "version": "3.11.11"
  },
  "papermill": {
   "default_parameters": {},
   "duration": 4233.392692,
   "end_time": "2024-12-11T05:44:07.641868",
   "environment_variables": {},
   "exception": null,
   "input_path": "__notebook__.ipynb",
   "output_path": "__notebook__.ipynb",
   "parameters": {},
   "start_time": "2024-12-11T04:33:34.249176",
   "version": "2.5.0"
  },
  "widgets": {
   "application/vnd.jupyter.widget-state+json": {
    "state": {
     "0a347260bfa04779a2219fffce31af32": {
      "model_module": "@jupyter-widgets/controls",
      "model_module_version": "1.5.0",
      "model_name": "ProgressStyleModel",
      "state": {
       "_model_module": "@jupyter-widgets/controls",
       "_model_module_version": "1.5.0",
       "_model_name": "ProgressStyleModel",
       "_view_count": null,
       "_view_module": "@jupyter-widgets/base",
       "_view_module_version": "1.2.0",
       "_view_name": "StyleView",
       "bar_color": null,
       "description_width": ""
      }
     },
     "12fa60aec4cb47abb59b8de1ad075f22": {
      "model_module": "@jupyter-widgets/controls",
      "model_module_version": "1.5.0",
      "model_name": "HTMLModel",
      "state": {
       "_dom_classes": [],
       "_model_module": "@jupyter-widgets/controls",
       "_model_module_version": "1.5.0",
       "_model_name": "HTMLModel",
       "_view_count": null,
       "_view_module": "@jupyter-widgets/controls",
       "_view_module_version": "1.5.0",
       "_view_name": "HTMLView",
       "description": "",
       "description_tooltip": null,
       "layout": "IPY_MODEL_847b3d498935480d95232e1fe7e57884",
       "placeholder": "​",
       "style": "IPY_MODEL_48740da653884419bd03ef03c87ad1b4",
       "value": " 23708/23708 [05:33&lt;00:00, 95.87it/s]"
      }
     },
     "19f09bd083b3498a906febde6f5339e7": {
      "model_module": "@jupyter-widgets/controls",
      "model_module_version": "1.5.0",
      "model_name": "HBoxModel",
      "state": {
       "_dom_classes": [],
       "_model_module": "@jupyter-widgets/controls",
       "_model_module_version": "1.5.0",
       "_model_name": "HBoxModel",
       "_view_count": null,
       "_view_module": "@jupyter-widgets/controls",
       "_view_module_version": "1.5.0",
       "_view_name": "HBoxView",
       "box_style": "",
       "children": [
        "IPY_MODEL_2c62a3d8c33c445ea710ed7d1c401c8b",
        "IPY_MODEL_432471bc85564f8693ffe1efd74fc358",
        "IPY_MODEL_12fa60aec4cb47abb59b8de1ad075f22"
       ],
       "layout": "IPY_MODEL_370b9fe8f4c444c38b9cae62cf6ec03e"
      }
     },
     "2454b0426b984c74ae4f3844c2d67b27": {
      "model_module": "@jupyter-widgets/base",
      "model_module_version": "1.2.0",
      "model_name": "LayoutModel",
      "state": {
       "_model_module": "@jupyter-widgets/base",
       "_model_module_version": "1.2.0",
       "_model_name": "LayoutModel",
       "_view_count": null,
       "_view_module": "@jupyter-widgets/base",
       "_view_module_version": "1.2.0",
       "_view_name": "LayoutView",
       "align_content": null,
       "align_items": null,
       "align_self": null,
       "border": null,
       "bottom": null,
       "display": null,
       "flex": null,
       "flex_flow": null,
       "grid_area": null,
       "grid_auto_columns": null,
       "grid_auto_flow": null,
       "grid_auto_rows": null,
       "grid_column": null,
       "grid_gap": null,
       "grid_row": null,
       "grid_template_areas": null,
       "grid_template_columns": null,
       "grid_template_rows": null,
       "height": null,
       "justify_content": null,
       "justify_items": null,
       "left": null,
       "margin": null,
       "max_height": null,
       "max_width": null,
       "min_height": null,
       "min_width": null,
       "object_fit": null,
       "object_position": null,
       "order": null,
       "overflow": null,
       "overflow_x": null,
       "overflow_y": null,
       "padding": null,
       "right": null,
       "top": null,
       "visibility": null,
       "width": null
      }
     },
     "28b4540a1e5a495696c3f97b56880898": {
      "model_module": "@jupyter-widgets/controls",
      "model_module_version": "1.5.0",
      "model_name": "HTMLModel",
      "state": {
       "_dom_classes": [],
       "_model_module": "@jupyter-widgets/controls",
       "_model_module_version": "1.5.0",
       "_model_name": "HTMLModel",
       "_view_count": null,
       "_view_module": "@jupyter-widgets/controls",
       "_view_module_version": "1.5.0",
       "_view_name": "HTMLView",
       "description": "",
       "description_tooltip": null,
       "layout": "IPY_MODEL_b75e73a5afb84cd29f5dc51e3fda8be4",
       "placeholder": "​",
       "style": "IPY_MODEL_e69229536d9b4d609845f7823848d186",
       "value": "100%"
      }
     },
     "2c62a3d8c33c445ea710ed7d1c401c8b": {
      "model_module": "@jupyter-widgets/controls",
      "model_module_version": "1.5.0",
      "model_name": "HTMLModel",
      "state": {
       "_dom_classes": [],
       "_model_module": "@jupyter-widgets/controls",
       "_model_module_version": "1.5.0",
       "_model_name": "HTMLModel",
       "_view_count": null,
       "_view_module": "@jupyter-widgets/controls",
       "_view_module_version": "1.5.0",
       "_view_name": "HTMLView",
       "description": "",
       "description_tooltip": null,
       "layout": "IPY_MODEL_6b9b30782c9347c29f9ccdaacf7848ad",
       "placeholder": "​",
       "style": "IPY_MODEL_7cbd74ab3e2743aca8188a4f2423f3a2",
       "value": "100%"
      }
     },
     "3135ed0b312e4ed189b877d1cbde021e": {
      "model_module": "@jupyter-widgets/controls",
      "model_module_version": "1.5.0",
      "model_name": "FloatProgressModel",
      "state": {
       "_dom_classes": [],
       "_model_module": "@jupyter-widgets/controls",
       "_model_module_version": "1.5.0",
       "_model_name": "FloatProgressModel",
       "_view_count": null,
       "_view_module": "@jupyter-widgets/controls",
       "_view_module_version": "1.5.0",
       "_view_name": "ProgressView",
       "bar_style": "success",
       "description": "",
       "description_tooltip": null,
       "layout": "IPY_MODEL_c3178ba37ade4c67b49b3b7ecef694e5",
       "max": 23708,
       "min": 0,
       "orientation": "horizontal",
       "style": "IPY_MODEL_0a347260bfa04779a2219fffce31af32",
       "value": 23708
      }
     },
     "370b9fe8f4c444c38b9cae62cf6ec03e": {
      "model_module": "@jupyter-widgets/base",
      "model_module_version": "1.2.0",
      "model_name": "LayoutModel",
      "state": {
       "_model_module": "@jupyter-widgets/base",
       "_model_module_version": "1.2.0",
       "_model_name": "LayoutModel",
       "_view_count": null,
       "_view_module": "@jupyter-widgets/base",
       "_view_module_version": "1.2.0",
       "_view_name": "LayoutView",
       "align_content": null,
       "align_items": null,
       "align_self": null,
       "border": null,
       "bottom": null,
       "display": null,
       "flex": null,
       "flex_flow": null,
       "grid_area": null,
       "grid_auto_columns": null,
       "grid_auto_flow": null,
       "grid_auto_rows": null,
       "grid_column": null,
       "grid_gap": null,
       "grid_row": null,
       "grid_template_areas": null,
       "grid_template_columns": null,
       "grid_template_rows": null,
       "height": null,
       "justify_content": null,
       "justify_items": null,
       "left": null,
       "margin": null,
       "max_height": null,
       "max_width": null,
       "min_height": null,
       "min_width": null,
       "object_fit": null,
       "object_position": null,
       "order": null,
       "overflow": null,
       "overflow_x": null,
       "overflow_y": null,
       "padding": null,
       "right": null,
       "top": null,
       "visibility": null,
       "width": null
      }
     },
     "432471bc85564f8693ffe1efd74fc358": {
      "model_module": "@jupyter-widgets/controls",
      "model_module_version": "1.5.0",
      "model_name": "FloatProgressModel",
      "state": {
       "_dom_classes": [],
       "_model_module": "@jupyter-widgets/controls",
       "_model_module_version": "1.5.0",
       "_model_name": "FloatProgressModel",
       "_view_count": null,
       "_view_module": "@jupyter-widgets/controls",
       "_view_module_version": "1.5.0",
       "_view_name": "ProgressView",
       "bar_style": "success",
       "description": "",
       "description_tooltip": null,
       "layout": "IPY_MODEL_4bf061b2b99a4a518bb7314a817b8993",
       "max": 23708,
       "min": 0,
       "orientation": "horizontal",
       "style": "IPY_MODEL_6f07b2fc76aa49349e47fa51a28ba0f8",
       "value": 23708
      }
     },
     "48740da653884419bd03ef03c87ad1b4": {
      "model_module": "@jupyter-widgets/controls",
      "model_module_version": "1.5.0",
      "model_name": "DescriptionStyleModel",
      "state": {
       "_model_module": "@jupyter-widgets/controls",
       "_model_module_version": "1.5.0",
       "_model_name": "DescriptionStyleModel",
       "_view_count": null,
       "_view_module": "@jupyter-widgets/base",
       "_view_module_version": "1.2.0",
       "_view_name": "StyleView",
       "description_width": ""
      }
     },
     "4bf061b2b99a4a518bb7314a817b8993": {
      "model_module": "@jupyter-widgets/base",
      "model_module_version": "1.2.0",
      "model_name": "LayoutModel",
      "state": {
       "_model_module": "@jupyter-widgets/base",
       "_model_module_version": "1.2.0",
       "_model_name": "LayoutModel",
       "_view_count": null,
       "_view_module": "@jupyter-widgets/base",
       "_view_module_version": "1.2.0",
       "_view_name": "LayoutView",
       "align_content": null,
       "align_items": null,
       "align_self": null,
       "border": null,
       "bottom": null,
       "display": null,
       "flex": null,
       "flex_flow": null,
       "grid_area": null,
       "grid_auto_columns": null,
       "grid_auto_flow": null,
       "grid_auto_rows": null,
       "grid_column": null,
       "grid_gap": null,
       "grid_row": null,
       "grid_template_areas": null,
       "grid_template_columns": null,
       "grid_template_rows": null,
       "height": null,
       "justify_content": null,
       "justify_items": null,
       "left": null,
       "margin": null,
       "max_height": null,
       "max_width": null,
       "min_height": null,
       "min_width": null,
       "object_fit": null,
       "object_position": null,
       "order": null,
       "overflow": null,
       "overflow_x": null,
       "overflow_y": null,
       "padding": null,
       "right": null,
       "top": null,
       "visibility": null,
       "width": null
      }
     },
     "587e87ab110842eabcaa3957fe03d055": {
      "model_module": "@jupyter-widgets/base",
      "model_module_version": "1.2.0",
      "model_name": "LayoutModel",
      "state": {
       "_model_module": "@jupyter-widgets/base",
       "_model_module_version": "1.2.0",
       "_model_name": "LayoutModel",
       "_view_count": null,
       "_view_module": "@jupyter-widgets/base",
       "_view_module_version": "1.2.0",
       "_view_name": "LayoutView",
       "align_content": null,
       "align_items": null,
       "align_self": null,
       "border": null,
       "bottom": null,
       "display": null,
       "flex": null,
       "flex_flow": null,
       "grid_area": null,
       "grid_auto_columns": null,
       "grid_auto_flow": null,
       "grid_auto_rows": null,
       "grid_column": null,
       "grid_gap": null,
       "grid_row": null,
       "grid_template_areas": null,
       "grid_template_columns": null,
       "grid_template_rows": null,
       "height": null,
       "justify_content": null,
       "justify_items": null,
       "left": null,
       "margin": null,
       "max_height": null,
       "max_width": null,
       "min_height": null,
       "min_width": null,
       "object_fit": null,
       "object_position": null,
       "order": null,
       "overflow": null,
       "overflow_x": null,
       "overflow_y": null,
       "padding": null,
       "right": null,
       "top": null,
       "visibility": null,
       "width": null
      }
     },
     "6252af3ca1784efeb893ad2e16a91adc": {
      "model_module": "@jupyter-widgets/controls",
      "model_module_version": "1.5.0",
      "model_name": "HTMLModel",
      "state": {
       "_dom_classes": [],
       "_model_module": "@jupyter-widgets/controls",
       "_model_module_version": "1.5.0",
       "_model_name": "HTMLModel",
       "_view_count": null,
       "_view_module": "@jupyter-widgets/controls",
       "_view_module_version": "1.5.0",
       "_view_name": "HTMLView",
       "description": "",
       "description_tooltip": null,
       "layout": "IPY_MODEL_587e87ab110842eabcaa3957fe03d055",
       "placeholder": "​",
       "style": "IPY_MODEL_b216835682134911b35d781683d39ad9",
       "value": " 23708/23708 [00:00&lt;00:00, 314357.66it/s]"
      }
     },
     "6b9b30782c9347c29f9ccdaacf7848ad": {
      "model_module": "@jupyter-widgets/base",
      "model_module_version": "1.2.0",
      "model_name": "LayoutModel",
      "state": {
       "_model_module": "@jupyter-widgets/base",
       "_model_module_version": "1.2.0",
       "_model_name": "LayoutModel",
       "_view_count": null,
       "_view_module": "@jupyter-widgets/base",
       "_view_module_version": "1.2.0",
       "_view_name": "LayoutView",
       "align_content": null,
       "align_items": null,
       "align_self": null,
       "border": null,
       "bottom": null,
       "display": null,
       "flex": null,
       "flex_flow": null,
       "grid_area": null,
       "grid_auto_columns": null,
       "grid_auto_flow": null,
       "grid_auto_rows": null,
       "grid_column": null,
       "grid_gap": null,
       "grid_row": null,
       "grid_template_areas": null,
       "grid_template_columns": null,
       "grid_template_rows": null,
       "height": null,
       "justify_content": null,
       "justify_items": null,
       "left": null,
       "margin": null,
       "max_height": null,
       "max_width": null,
       "min_height": null,
       "min_width": null,
       "object_fit": null,
       "object_position": null,
       "order": null,
       "overflow": null,
       "overflow_x": null,
       "overflow_y": null,
       "padding": null,
       "right": null,
       "top": null,
       "visibility": null,
       "width": null
      }
     },
     "6f07b2fc76aa49349e47fa51a28ba0f8": {
      "model_module": "@jupyter-widgets/controls",
      "model_module_version": "1.5.0",
      "model_name": "ProgressStyleModel",
      "state": {
       "_model_module": "@jupyter-widgets/controls",
       "_model_module_version": "1.5.0",
       "_model_name": "ProgressStyleModel",
       "_view_count": null,
       "_view_module": "@jupyter-widgets/base",
       "_view_module_version": "1.2.0",
       "_view_name": "StyleView",
       "bar_color": null,
       "description_width": ""
      }
     },
     "7cbd74ab3e2743aca8188a4f2423f3a2": {
      "model_module": "@jupyter-widgets/controls",
      "model_module_version": "1.5.0",
      "model_name": "DescriptionStyleModel",
      "state": {
       "_model_module": "@jupyter-widgets/controls",
       "_model_module_version": "1.5.0",
       "_model_name": "DescriptionStyleModel",
       "_view_count": null,
       "_view_module": "@jupyter-widgets/base",
       "_view_module_version": "1.2.0",
       "_view_name": "StyleView",
       "description_width": ""
      }
     },
     "847b3d498935480d95232e1fe7e57884": {
      "model_module": "@jupyter-widgets/base",
      "model_module_version": "1.2.0",
      "model_name": "LayoutModel",
      "state": {
       "_model_module": "@jupyter-widgets/base",
       "_model_module_version": "1.2.0",
       "_model_name": "LayoutModel",
       "_view_count": null,
       "_view_module": "@jupyter-widgets/base",
       "_view_module_version": "1.2.0",
       "_view_name": "LayoutView",
       "align_content": null,
       "align_items": null,
       "align_self": null,
       "border": null,
       "bottom": null,
       "display": null,
       "flex": null,
       "flex_flow": null,
       "grid_area": null,
       "grid_auto_columns": null,
       "grid_auto_flow": null,
       "grid_auto_rows": null,
       "grid_column": null,
       "grid_gap": null,
       "grid_row": null,
       "grid_template_areas": null,
       "grid_template_columns": null,
       "grid_template_rows": null,
       "height": null,
       "justify_content": null,
       "justify_items": null,
       "left": null,
       "margin": null,
       "max_height": null,
       "max_width": null,
       "min_height": null,
       "min_width": null,
       "object_fit": null,
       "object_position": null,
       "order": null,
       "overflow": null,
       "overflow_x": null,
       "overflow_y": null,
       "padding": null,
       "right": null,
       "top": null,
       "visibility": null,
       "width": null
      }
     },
     "a57449ef820c4a6ab0f72a19fc327e91": {
      "model_module": "@jupyter-widgets/controls",
      "model_module_version": "1.5.0",
      "model_name": "HBoxModel",
      "state": {
       "_dom_classes": [],
       "_model_module": "@jupyter-widgets/controls",
       "_model_module_version": "1.5.0",
       "_model_name": "HBoxModel",
       "_view_count": null,
       "_view_module": "@jupyter-widgets/controls",
       "_view_module_version": "1.5.0",
       "_view_name": "HBoxView",
       "box_style": "",
       "children": [
        "IPY_MODEL_28b4540a1e5a495696c3f97b56880898",
        "IPY_MODEL_3135ed0b312e4ed189b877d1cbde021e",
        "IPY_MODEL_6252af3ca1784efeb893ad2e16a91adc"
       ],
       "layout": "IPY_MODEL_2454b0426b984c74ae4f3844c2d67b27"
      }
     },
     "b216835682134911b35d781683d39ad9": {
      "model_module": "@jupyter-widgets/controls",
      "model_module_version": "1.5.0",
      "model_name": "DescriptionStyleModel",
      "state": {
       "_model_module": "@jupyter-widgets/controls",
       "_model_module_version": "1.5.0",
       "_model_name": "DescriptionStyleModel",
       "_view_count": null,
       "_view_module": "@jupyter-widgets/base",
       "_view_module_version": "1.2.0",
       "_view_name": "StyleView",
       "description_width": ""
      }
     },
     "b75e73a5afb84cd29f5dc51e3fda8be4": {
      "model_module": "@jupyter-widgets/base",
      "model_module_version": "1.2.0",
      "model_name": "LayoutModel",
      "state": {
       "_model_module": "@jupyter-widgets/base",
       "_model_module_version": "1.2.0",
       "_model_name": "LayoutModel",
       "_view_count": null,
       "_view_module": "@jupyter-widgets/base",
       "_view_module_version": "1.2.0",
       "_view_name": "LayoutView",
       "align_content": null,
       "align_items": null,
       "align_self": null,
       "border": null,
       "bottom": null,
       "display": null,
       "flex": null,
       "flex_flow": null,
       "grid_area": null,
       "grid_auto_columns": null,
       "grid_auto_flow": null,
       "grid_auto_rows": null,
       "grid_column": null,
       "grid_gap": null,
       "grid_row": null,
       "grid_template_areas": null,
       "grid_template_columns": null,
       "grid_template_rows": null,
       "height": null,
       "justify_content": null,
       "justify_items": null,
       "left": null,
       "margin": null,
       "max_height": null,
       "max_width": null,
       "min_height": null,
       "min_width": null,
       "object_fit": null,
       "object_position": null,
       "order": null,
       "overflow": null,
       "overflow_x": null,
       "overflow_y": null,
       "padding": null,
       "right": null,
       "top": null,
       "visibility": null,
       "width": null
      }
     },
     "c3178ba37ade4c67b49b3b7ecef694e5": {
      "model_module": "@jupyter-widgets/base",
      "model_module_version": "1.2.0",
      "model_name": "LayoutModel",
      "state": {
       "_model_module": "@jupyter-widgets/base",
       "_model_module_version": "1.2.0",
       "_model_name": "LayoutModel",
       "_view_count": null,
       "_view_module": "@jupyter-widgets/base",
       "_view_module_version": "1.2.0",
       "_view_name": "LayoutView",
       "align_content": null,
       "align_items": null,
       "align_self": null,
       "border": null,
       "bottom": null,
       "display": null,
       "flex": null,
       "flex_flow": null,
       "grid_area": null,
       "grid_auto_columns": null,
       "grid_auto_flow": null,
       "grid_auto_rows": null,
       "grid_column": null,
       "grid_gap": null,
       "grid_row": null,
       "grid_template_areas": null,
       "grid_template_columns": null,
       "grid_template_rows": null,
       "height": null,
       "justify_content": null,
       "justify_items": null,
       "left": null,
       "margin": null,
       "max_height": null,
       "max_width": null,
       "min_height": null,
       "min_width": null,
       "object_fit": null,
       "object_position": null,
       "order": null,
       "overflow": null,
       "overflow_x": null,
       "overflow_y": null,
       "padding": null,
       "right": null,
       "top": null,
       "visibility": null,
       "width": null
      }
     },
     "e69229536d9b4d609845f7823848d186": {
      "model_module": "@jupyter-widgets/controls",
      "model_module_version": "1.5.0",
      "model_name": "DescriptionStyleModel",
      "state": {
       "_model_module": "@jupyter-widgets/controls",
       "_model_module_version": "1.5.0",
       "_model_name": "DescriptionStyleModel",
       "_view_count": null,
       "_view_module": "@jupyter-widgets/base",
       "_view_module_version": "1.2.0",
       "_view_name": "StyleView",
       "description_width": ""
      }
     }
    },
    "version_major": 2,
    "version_minor": 0
   }
  }
 },
 "nbformat": 4,
 "nbformat_minor": 5
}
