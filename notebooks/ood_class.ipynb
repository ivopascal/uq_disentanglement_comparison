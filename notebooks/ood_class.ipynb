{
 "cells": [
  {
   "cell_type": "code",
   "execution_count": 1,
   "id": "9df61bdd-2214-461b-9b92-48a241dec85c",
   "metadata": {},
   "source": [
    "from sklearn.datasets import make_blobs\n",
    "import numpy as np\n",
    "from keras.models import Sequential, Model\n",
    "from keras_uncertainty.layers import StochasticDropout, SamplingSoftmax\n",
    "from keras_uncertainty.models import DisentangledStochasticClassifier, StochasticClassifier\n",
    "from keras.layers import Dense, Input, Dropout\n",
    "from keras_uncertainty.utils import numpy_entropy\n"
   ],
   "outputs": []
  },
  {
   "cell_type": "code",
   "execution_count": 34,
   "id": "6e6f6460-4459-4847-83b0-deef4f4ef085",
   "metadata": {},
   "source": [
    "X, y = make_blobs(n_samples=1000, n_features=2, centers=[[-1.5, 1.5],[0, -1.5]], random_state=0)\n",
    "BATCH_SIZE = 256\n",
    "NUM_SAMPLES = 100"
   ],
   "outputs": []
  },
  {
   "cell_type": "code",
   "execution_count": 35,
   "id": "2befa9e8-329b-4971-ba96-b2a41f7a5a2b",
   "metadata": {},
   "source": [
    "def uncertainty(probs):\n",
    "    return numpy_entropy(probs, axis=-1)\n",
    "\n",
    "\n",
    "def two_head_model(trunk_model, num_classes=2, num_samples=100):\n",
    "    inp = Input(shape=(2,))\n",
    "    x = trunk_model(inp)\n",
    "    logit_mean = Dense(num_classes, activation=\"linear\")(x)\n",
    "    logit_var = Dense(num_classes, activation=\"softplus\")(x)\n",
    "    probs = SamplingSoftmax(num_samples=num_samples, variance_type=\"linear_std\")([logit_mean, logit_var])\n",
    "    \n",
    "    train_model = Model(inp, probs, name=\"train_model\")\n",
    "    pred_model = Model(inp, [logit_mean, logit_var], name=\"pred_model\")\n",
    "\n",
    "    train_model.compile(loss=\"sparse_categorical_crossentropy\", optimizer=\"adam\", metrics=[\"accuracy\"])\n",
    "    \n",
    "    return train_model, pred_model\n",
    "\n",
    "\n",
    "def train_stochastic_model(trunk_model, x_train, y_train, epochs=300):\n",
    "    train_model, pred_model = two_head_model(trunk_model)\n",
    "    train_model.fit(x_train, y_train, verbose=2, epochs=epochs, batch_size=BATCH_SIZE)\n",
    "\n",
    "    fin_model = DisentangledStochasticClassifier(pred_model, epi_num_samples=NUM_SAMPLES)\n",
    "\n",
    "    return fin_model\n",
    "\n",
    "def eval_disentangled_model(disentangled_model, samples):\n",
    "    pred_mean, pred_ale_std, pred_epi_std = disentangled_model.predict(samples, batch_size=BATCH_SIZE)\n",
    "    ale_entropy = uncertainty(pred_ale_std)\n",
    "    epi_entropy = uncertainty(pred_epi_std)\n",
    "\n",
    "    return ale_entropy, epi_entropy\n",
    "\n",
    "def train_disentangling_dropout_model(x_train, y_train, prob=0.5):\n",
    "    model = Sequential()\n",
    "    model.add(Dense(32, activation=\"relu\", input_shape=(2,)))\n",
    "    model.add(StochasticDropout(prob))\n",
    "    model.add(Dense(32, activation=\"relu\"))\n",
    "    model.add(StochasticDropout(prob))\n",
    "\n",
    "    return train_stochastic_model(model, x_train, y_train, epochs=50)"
   ],
   "outputs": []
  },
  {
   "cell_type": "code",
   "execution_count": 36,
   "id": "6dabf513-729c-4424-95b9-dad3f7fa9ea6",
   "metadata": {},
   "source": [
    "disentangled_dropout_model = train_disentangling_dropout_model(X, y)"
   ],
   "outputs": []
  },
  {
   "cell_type": "code",
   "execution_count": 117,
   "id": "4236ade2-4f3d-4021-8959-9da624d3cb93",
   "metadata": {},
   "source": [
    "X_3class, y_3class = make_blobs(n_samples=1000, n_features=2, centers=[[-1.5, 1.5],[0, -1.5], [9, 8.0]], random_state=0)\n"
   ],
   "outputs": []
  },
  {
   "cell_type": "code",
   "execution_count": 118,
   "id": "48d3c2ae-8ef2-42e1-9595-e7e7a71cdcbe",
   "metadata": {},
   "source": [
    "import matplotlib.pyplot as plt\n",
    "\n",
    "plt.scatter(X_3class[:,0], X_3class[:,1], c=y_3class)"
   ],
   "outputs": []
  },
  {
   "cell_type": "code",
   "execution_count": 119,
   "id": "0b350ffc-bf3d-4572-bb98-a71d72d74fda",
   "metadata": {},
   "source": [
    "ale_entropy, epi_entropy = eval_disentangled_model(disentangled_dropout_model, X_3class)"
   ],
   "outputs": []
  },
  {
   "cell_type": "code",
   "execution_count": 136,
   "id": "468083f7-c79a-4e21-8610-434559909b42",
   "metadata": {},
   "source": [
    "plt.hist(ale_entropy[y_3class != 2], label=\"ID\")\n",
    "plt.hist(ale_entropy[y_3class == 2], label=\"OOD\")\n",
    "plt.vlines(ale_entropy[y_3class != 2].mean(), ymin=0, ymax=400, label=\"ID mean\", color='green')\n",
    "plt.vlines(ale_entropy[y_3class == 2].mean(), ymin=0, ymax=400, label=\"OOD mean\", color='purple')\n",
    "plt.xlabel(\"Aleatoric Uncertainty\")\n",
    "plt.title(\"Disentangling model\")\n",
    "\n",
    "plt.legend()"
   ],
   "outputs": []
  },
  {
   "cell_type": "code",
   "execution_count": 135,
   "id": "034cd125-eb28-4f7c-a464-402ac265c07f",
   "metadata": {},
   "source": [
    "plt.hist(epi_entropy[y_3class != 2], label=\"ID\")\n",
    "plt.hist(epi_entropy[y_3class == 2], label=\"OOD\")\n",
    "plt.vlines(epi_entropy[y_3class != 2].mean(), ymin=0, ymax=400, label=\"ID mean\", color='green')\n",
    "plt.vlines(epi_entropy[y_3class == 2].mean(), ymin=0, ymax=400, label=\"OOD mean\", color='purple')\n",
    "plt.xlabel(\"Epistemic Uncertainty\")\n",
    "plt.title(\"Disentangling model\")\n",
    "plt.legend()"
   ],
   "outputs": []
  },
  {
   "cell_type": "code",
   "execution_count": 134,
   "id": "d4918e95-3f3e-46de-91d6-44b8255049b3",
   "metadata": {},
   "source": [
    "from sklearn.metrics import roc_auc_score\n",
    "roc_auc_score(y_3class == 2, ale_entropy) "
   ],
   "outputs": []
  },
  {
   "cell_type": "code",
   "execution_count": 123,
   "id": "4d97ecec-46c9-4c24-800d-d600d7777b1b",
   "metadata": {},
   "source": [
    "roc_auc_score(y_3class == 2, epi_entropy)"
   ],
   "outputs": []
  },
  {
   "cell_type": "code",
   "execution_count": 137,
   "id": "79638328-7267-4380-863a-281cd1d60108",
   "metadata": {},
   "source": [
    "def train_entropy_dropout_model(x_train, y_train, prob=0.5):\n",
    "    model = Sequential()\n",
    "    model.add(Dense(32, activation=\"relu\", input_shape=(2,)))\n",
    "    model.add(StochasticDropout(prob))\n",
    "    model.add(Dense(32, activation=\"relu\"))\n",
    "    model.add(StochasticDropout(prob))\n",
    "    model.add(Dense(2, activation=\"softmax\"))\n",
    "    \n",
    "    model.compile(loss=\"sparse_categorical_crossentropy\", optimizer=\"adam\", metrics=[\"accuracy\"])\n",
    "    \n",
    "    model.fit(x_train, y_train, verbose=2, epochs=50)\n",
    "    \n",
    "    mc_model = StochasticClassifier(model)\n",
    "\n",
    "    return mc_model\n",
    "entropy_model = train_entropy_dropout_model(X, y)"
   ],
   "outputs": []
  },
  {
   "cell_type": "code",
   "execution_count": 138,
   "id": "f5371878-bc7c-4704-82b9-95192ced45e4",
   "metadata": {},
   "source": [
    "individual_predictions = entropy_model.predict_samples(X_3class, num_samples=NUM_SAMPLES)\n"
   ],
   "outputs": []
  },
  {
   "cell_type": "code",
   "execution_count": 139,
   "id": "c363f41c-9a8f-41e5-ae48-15906195a5ee",
   "metadata": {},
   "source": [
    "def predictive_entropy(probs, axis=-1, eps=1e-6):\n",
    "    probs = np.mean(probs, axis=0)\n",
    "    return -np.sum(probs * np.log(probs + eps), axis=axis)\n",
    "\n",
    "def expected_entropy(probs, eps=1e-6):\n",
    "  return -np.mean((probs * np.log(probs + eps)).sum(axis=-1), axis=0)\n",
    "\n",
    "def mutual_information(probs):\n",
    "  return predictive_entropy(probs) - expected_entropy(probs)\n"
   ],
   "outputs": []
  },
  {
   "cell_type": "code",
   "execution_count": 127,
   "id": "8a80377f-9d51-4d26-89f6-e7a911d78e63",
   "metadata": {},
   "source": [
    "mutual_info = mutual_information(individual_predictions)\n",
    "expect_entro = expected_entropy(individual_predictions)\n",
    "\n",
    "plt.hist(mutual_info[y_3class != 2], label=\"ID\")\n",
    "plt.hist(mutual_info[y_3class == 2], label=\"OOD\")\n",
    "plt.vlines(mutual_info[y_3class != 2].mean(), ymin=0, ymax=400, label=\"ID mean\", color='green')\n",
    "plt.vlines(mutual_info[y_3class == 2].mean(), ymin=0, ymax=400, label=\"OOD mean\", color='purple')\n",
    "plt.xlabel(\"Epistemic Uncertainty\")\n",
    "plt.title(\"Entropy disentangled OOD detection\")\n",
    "plt.legend()"
   ],
   "outputs": []
  },
  {
   "cell_type": "code",
   "execution_count": 128,
   "id": "02ca7794-5024-42f4-ad35-a2478953aca5",
   "metadata": {},
   "source": [
    "plt.hist(expect_entro[y_3class != 2], label=\"ID\")\n",
    "plt.hist(expect_entro[y_3class == 2], label=\"OOD\")\n",
    "plt.vlines(expect_entro[y_3class != 2].mean(), ymin=0, ymax=400, label=\"ID mean\", color='green')\n",
    "plt.vlines(expect_entro[y_3class == 2].mean(), ymin=0, ymax=400, label=\"OOD mean\", color='purple')\n",
    "plt.xlabel(\"Aleatoric Uncertainty\")\n",
    "plt.title(\"Entropy disentangled OOD detection\")\n",
    "plt.legend()"
   ],
   "outputs": []
  },
  {
   "cell_type": "code",
   "execution_count": 131,
   "id": "b7fa0034-d05c-4424-b799-9f882ccc509a",
   "metadata": {},
   "source": [
    "roc_auc_score(y_3class == 2, expect_entro)"
   ],
   "outputs": []
  },
  {
   "cell_type": "code",
   "execution_count": 132,
   "id": "404992f7-1221-4c1e-a42d-ad64001483bd",
   "metadata": {},
   "source": [
    "roc_auc_score(y_3class == 2, mutual_info)"
   ],
   "outputs": []
  },
  {
   "cell_type": "code",
   "execution_count": null,
   "id": "f34f5689-e355-41d0-87b8-d374262d6848",
   "metadata": {},
   "source": [],
   "outputs": []
  }
 ],
 "metadata": {
  "kernelspec": {
   "display_name": "Python 3 (ipykernel)",
   "language": "python",
   "name": "python3"
  },
  "language_info": {
   "codemirror_mode": {
    "name": "ipython",
    "version": 3
   },
   "file_extension": ".py",
   "mimetype": "text/x-python",
   "name": "python",
   "nbconvert_exporter": "python",
   "pygments_lexer": "ipython3",
   "version": "3.11.7"
  }
 },
 "nbformat": 4,
 "nbformat_minor": 5
}
