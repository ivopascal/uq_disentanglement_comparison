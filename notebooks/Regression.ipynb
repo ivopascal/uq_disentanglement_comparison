{
 "cells": [
  {
   "cell_type": "code",
   "execution_count": 1,
   "id": "0a4d33a4-7a67-43ea-b887-7d3ca1e9b8dc",
   "metadata": {},
   "outputs": [],
   "source": [
    "import pandas as pd\n",
    "import numpy as np\n",
    "import keras\n",
    "from sklearn.preprocessing import StandardScaler\n",
    "\n",
    "from tensorflow.python.framework.ops import disable_eager_execution\n",
    "disable_eager_execution()\n",
    "\n",
    "\n",
    "url = 'http://archive.ics.uci.edu/ml/machine-learning-databases/auto-mpg/auto-mpg.data'\n",
    "column_names = ['MPG', 'Cylinders', 'Displacement', 'Horsepower', 'Weight',\n",
    "                'Acceleration', 'Model Year', 'Origin']\n",
    "\n",
    "raw_dataset = pd.read_csv(url, names=column_names,\n",
    "                          na_values='?', comment='\\t',\n",
    "                          sep=' ', skipinitialspace=True)\n",
    "dataset = raw_dataset.copy()\n",
    "dataset = dataset.dropna()\n",
    "\n",
    "dataset['Origin'] = dataset['Origin'].map({1: 'USA', 2: 'Europe', 3: 'Japan'})\n",
    "dataset = pd.get_dummies(dataset, columns=['Origin'], prefix='', prefix_sep='')\n",
    "train_dataset = dataset.sample(frac=0.8, random_state=0)\n",
    "test_dataset = dataset.drop(train_dataset.index)\n",
    "\n",
    "train_features = train_dataset.copy()\n",
    "test_features = test_dataset.copy()\n",
    "\n",
    "train_labels = train_features.pop('MPG')\n",
    "test_labels = test_features.pop('MPG')\n",
    "\n",
    "normalizer = StandardScaler()\n",
    "normalizer.fit(train_features)\n",
    "train_features = normalizer.transform(train_features)\n",
    "test_features = normalizer.transform(test_features)"
   ]
  },
  {
   "cell_type": "code",
   "execution_count": 2,
   "id": "2b1d182c-0bc4-47cc-bcbc-e8f239cb83a3",
   "metadata": {},
   "outputs": [
    {
     "data": {
      "text/plain": [
       "146    28.0\n",
       "282    22.3\n",
       "69     12.0\n",
       "378    38.0\n",
       "331    33.8\n",
       "       ... \n",
       "281    19.8\n",
       "229    16.0\n",
       "150    26.0\n",
       "145    32.0\n",
       "182    28.0\n",
       "Name: MPG, Length: 314, dtype: float64"
      ]
     },
     "execution_count": 2,
     "metadata": {},
     "output_type": "execute_result"
    }
   ],
   "source": [
    "train_labels"
   ]
  },
  {
   "cell_type": "code",
   "execution_count": 3,
   "id": "a8ba277d-cf71-4928-9ad2-2bffea55ba28",
   "metadata": {},
   "outputs": [
    {
     "name": "stdout",
     "output_type": "stream",
     "text": [
      "R2 = 0.8442412485817241\n",
      "MSE = 10.172092283687613\n"
     ]
    }
   ],
   "source": [
    "from sklearn.linear_model import LinearRegression\n",
    "\n",
    "lr = LinearRegression()\n",
    "lr.fit(train_features, train_labels)\n",
    "print(f\"R2 = {lr.score(test_features, test_labels)}\")\n",
    "\n",
    "from sklearn.metrics import mean_squared_error\n",
    "\n",
    "print(f\"MSE = {mean_squared_error(lr.predict(test_features), test_labels)}\")"
   ]
  },
  {
   "cell_type": "code",
   "execution_count": 4,
   "id": "1c38b30c-bf7f-4f98-b9db-51b4856bdde1",
   "metadata": {},
   "outputs": [],
   "source": [
    "from keras import layers\n",
    "\n",
    "linear_model = keras.Sequential([\n",
    "    layers.Dense(units=16, activation='relu'),\n",
    "    layers.Dropout(rate=0.2),\n",
    "    # layers.Dense(units=16, activation='relu'),\n",
    "    # layers.Dropout(rate=0.2),\n",
    "    layers.Dense(units=1),\n",
    "])\n",
    "\n",
    "# linear_model = keras.Sequential([\n",
    "#     normalizer,\n",
    "#     layers.Dense(units=1),\n",
    "# ])\n",
    "\n",
    "linear_model.compile(    \n",
    "    optimizer=keras.optimizers.legacy.Adam(learning_rate=0.1),\n",
    "    loss='mse')"
   ]
  },
  {
   "cell_type": "code",
   "execution_count": 5,
   "id": "0be926b7-96f3-4e3b-b600-e70ebf787c69",
   "metadata": {},
   "outputs": [
    {
     "name": "stderr",
     "output_type": "stream",
     "text": [
      "2024-12-10 12:39:15.084797: I metal_plugin/src/device/metal_device.cc:1154] Metal device set to: Apple M1 Pro\n",
      "2024-12-10 12:39:15.084818: I metal_plugin/src/device/metal_device.cc:296] systemMemory: 32.00 GB\n",
      "2024-12-10 12:39:15.084825: I metal_plugin/src/device/metal_device.cc:313] maxCacheSize: 10.67 GB\n",
      "2024-12-10 12:39:15.084855: I tensorflow/core/common_runtime/pluggable_device/pluggable_device_factory.cc:306] Could not identify NUMA node of platform GPU ID 0, defaulting to 0. Your kernel may not have been built with NUMA support.\n",
      "2024-12-10 12:39:15.084869: I tensorflow/core/common_runtime/pluggable_device/pluggable_device_factory.cc:272] Created TensorFlow device (/job:localhost/replica:0/task:0/device:GPU:0 with 0 MB memory) -> physical PluggableDevice (device: 0, name: METAL, pci bus id: <undefined>)\n",
      "2024-12-10 12:39:15.156711: I tensorflow/core/common_runtime/pluggable_device/pluggable_device_factory.cc:306] Could not identify NUMA node of platform GPU ID 0, defaulting to 0. Your kernel may not have been built with NUMA support.\n",
      "2024-12-10 12:39:15.156732: I tensorflow/core/common_runtime/pluggable_device/pluggable_device_factory.cc:272] Created TensorFlow device (/job:localhost/replica:0/task:0/device:GPU:0 with 0 MB memory) -> physical PluggableDevice (device: 0, name: METAL, pci bus id: <undefined>)\n",
      "2024-12-10 12:39:15.160302: I tensorflow/compiler/mlir/mlir_graph_optimization_pass.cc:388] MLIR V1 optimization pass is not enabled\n",
      "2024-12-10 12:39:15.164182: I tensorflow/core/grappler/optimizers/custom_graph_optimizer_registry.cc:117] Plugin optimizer for device_type GPU is enabled.\n",
      "2024-12-10 12:39:15.174426: W tensorflow/c/c_api.cc:305] Operation '{name:'training/Adam/sequential/dense_1/kernel/v/Assign' id:219 op device:{requested: '', assigned: ''} def:{{{node training/Adam/sequential/dense_1/kernel/v/Assign}} = AssignVariableOp[_has_manual_control_dependencies=true, dtype=DT_FLOAT, validate_shape=false](training/Adam/sequential/dense_1/kernel/v, training/Adam/sequential/dense_1/kernel/v/Initializer/zeros)}}' was changed by setting attribute after it was run by a session. This mutation will have no effect, and will trigger an error in the future. Either don't modify nodes after running them or create a new session.\n",
      "/Users/ivopascal/.local/share/virtualenvs/uq_disentanglement_comparison-mONOvMcl/lib/python3.11/site-packages/keras/src/engine/training_v1.py:2335: UserWarning: `Model.state_updates` will be removed in a future version. This property should not be used in TensorFlow 2.0, as `updates` are applied automatically.\n",
      "  updates = self.state_updates\n",
      "2024-12-10 12:39:15.482482: W tensorflow/c/c_api.cc:305] Operation '{name:'loss/mul' id:78 op device:{requested: '', assigned: ''} def:{{{node loss/mul}} = Mul[T=DT_FLOAT, _has_manual_control_dependencies=true](loss/mul/x, loss/output_1_loss/value)}}' was changed by setting attribute after it was run by a session. This mutation will have no effect, and will trigger an error in the future. Either don't modify nodes after running them or create a new session.\n"
     ]
    }
   ],
   "source": [
    "history = linear_model.fit(\n",
    "    train_features,\n",
    "    np.array(train_labels),\n",
    "    epochs=100,\n",
    "    # Suppress logging.\n",
    "    verbose=0,\n",
    "    # Calculate validation results on 20% of the training data.\n",
    "    validation_split = 0.2)"
   ]
  },
  {
   "cell_type": "code",
   "execution_count": 6,
   "id": "0da63a1f-fad3-45fa-aeb9-2107b88ae3ae",
   "metadata": {},
   "outputs": [
    {
     "data": {
      "text/html": [
       "<div>\n",
       "<style scoped>\n",
       "    .dataframe tbody tr th:only-of-type {\n",
       "        vertical-align: middle;\n",
       "    }\n",
       "\n",
       "    .dataframe tbody tr th {\n",
       "        vertical-align: top;\n",
       "    }\n",
       "\n",
       "    .dataframe thead th {\n",
       "        text-align: right;\n",
       "    }\n",
       "</style>\n",
       "<table border=\"1\" class=\"dataframe\">\n",
       "  <thead>\n",
       "    <tr style=\"text-align: right;\">\n",
       "      <th></th>\n",
       "      <th>loss</th>\n",
       "      <th>val_loss</th>\n",
       "    </tr>\n",
       "  </thead>\n",
       "  <tbody>\n",
       "    <tr>\n",
       "      <th>95</th>\n",
       "      <td>25.685808</td>\n",
       "      <td>12.987852</td>\n",
       "    </tr>\n",
       "    <tr>\n",
       "      <th>96</th>\n",
       "      <td>22.012922</td>\n",
       "      <td>13.468208</td>\n",
       "    </tr>\n",
       "    <tr>\n",
       "      <th>97</th>\n",
       "      <td>20.646728</td>\n",
       "      <td>11.757643</td>\n",
       "    </tr>\n",
       "    <tr>\n",
       "      <th>98</th>\n",
       "      <td>19.286787</td>\n",
       "      <td>13.005950</td>\n",
       "    </tr>\n",
       "    <tr>\n",
       "      <th>99</th>\n",
       "      <td>17.480046</td>\n",
       "      <td>17.563066</td>\n",
       "    </tr>\n",
       "  </tbody>\n",
       "</table>\n",
       "</div>"
      ],
      "text/plain": [
       "         loss   val_loss\n",
       "95  25.685808  12.987852\n",
       "96  22.012922  13.468208\n",
       "97  20.646728  11.757643\n",
       "98  19.286787  13.005950\n",
       "99  17.480046  17.563066"
      ]
     },
     "execution_count": 6,
     "metadata": {},
     "output_type": "execute_result"
    },
    {
     "data": {
      "image/png": "[encoded data removed]",
      "text/plain": [
       "<Figure size 640x480 with 1 Axes>"
      ]
     },
     "metadata": {},
     "output_type": "display_data"
    }
   ],
   "source": [
    "pd.DataFrame(history.history).plot()\n",
    "pd.DataFrame(history.history).tail()"
   ]
  },
  {
   "cell_type": "code",
   "execution_count": 7,
   "id": "8103ad43-d0e9-40ec-abe6-35125ab1da6c",
   "metadata": {},
   "outputs": [
    {
     "data": {
      "text/plain": [
       "array([[-0.87073567, -1.01107037, -0.78530384, ..., -0.46589083,\n",
       "        -0.49601587,  0.77591289],\n",
       "       [-0.87073567, -0.53106418, -0.44351791, ..., -0.46589083,\n",
       "        -0.49601587,  0.77591289],\n",
       "       [ 1.48625572,  1.48496183,  1.44945034, ..., -0.46589083,\n",
       "        -0.49601587,  0.77591289],\n",
       "       ...,\n",
       "       [-0.87073567, -0.83826814, -0.31206178, ..., -0.46589083,\n",
       "         2.01606452, -1.28880447],\n",
       "       [-0.87073567, -1.07827123, -1.153381  , ..., -0.46589083,\n",
       "         2.01606452, -1.28880447],\n",
       "       [-0.87073567, -0.84786826, -0.49610036, ...,  2.1464256 ,\n",
       "        -0.49601587, -1.28880447]])"
      ]
     },
     "execution_count": 7,
     "metadata": {},
     "output_type": "execute_result"
    }
   ],
   "source": [
    "train_features"
   ]
  },
  {
   "cell_type": "code",
   "execution_count": 8,
   "id": "337309a0-480a-4f95-b06c-b3d6d82e70d1",
   "metadata": {
    "scrolled": true
   },
   "outputs": [
    {
     "name": "stderr",
     "output_type": "stream",
     "text": [
      "  0%|                                                                                                                                                                                                                                                                                          | 0/1560 [00:00<?, ?it/s]"
     ]
    }
   ],
   "source": [
    "from disentanglement.models.architectures import get_dropout_from_backbone\n",
    "from disentanglement.models.gaussian_logits_models import train_gaussian_logits_model\n",
    "from tensorflow.keras import backend as K\n",
    "\n",
    "\n",
    "# disable_eager_execution()\n",
    "def get_auto_mpg_backbone(n_training_samples=0):\n",
    "    linear_model = keras.Sequential([\n",
    "        layers.Input(9),\n",
    "        layers.Dense(units=16, activation='relu')])\n",
    "    return linear_model"
   ]
  },
  {
   "cell_type": "code",
   "execution_count": 9,
   "id": "cafe54ed-0de6-414b-b8be-1ce30c438535",
   "metadata": {},
   "outputs": [],
   "source": [
    "def architecture(**_):\n",
    "    return get_dropout_from_backbone(backbone_func=get_auto_mpg_backbone, hidden_size=16)"
   ]
  },
  {
   "cell_type": "code",
   "execution_count": 10,
   "id": "98597b4a-488f-4aed-940f-1ea209a8d401",
   "metadata": {},
   "outputs": [
    {
     "name": "stderr",
     "output_type": "stream",
     "text": [
      "2024-12-10 12:39:23.552981: W tensorflow/c/c_api.cc:305] Operation '{name:'training_2/Adam/dense_3/bias/v/Assign' id:654 op device:{requested: '', assigned: ''} def:{{{node training_2/Adam/dense_3/bias/v/Assign}} = AssignVariableOp[_has_manual_control_dependencies=true, dtype=DT_FLOAT, validate_shape=false](training_2/Adam/dense_3/bias/v, training_2/Adam/dense_3/bias/v/Initializer/zeros)}}' was changed by setting attribute after it was run by a session. This mutation will have no effect, and will trigger an error in the future. Either don't modify nodes after running them or create a new session.\n",
      "  0%|▏                                                                                                                                                                                                                                                                           | 1/1560 [30:09<783:49:05, 1809.97s/it]"
     ]
    }
   ],
   "source": [
    "model = train_gaussian_logits_model(architecture, np.array(train_features), np.array(train_labels), n_classes=0, epochs=100_000, regression=True)"
   ]
  },
  {
   "cell_type": "code",
   "execution_count": 11,
   "id": "776d4852-ce61-4683-92c2-b9a17f8624e0",
   "metadata": {},
   "outputs": [
    {
     "name": "stderr",
     "output_type": "stream",
     "text": [
      "/Users/ivopascal/.local/share/virtualenvs/uq_disentanglement_comparison-mONOvMcl/lib/python3.11/site-packages/keras/src/engine/training_v1.py:2359: UserWarning: `Model.state_updates` will be removed in a future version. This property should not be used in TensorFlow 2.0, as `updates` are applied automatically.\n",
      "  updates=self.state_updates,\n",
      "2024-12-10 13:09:33.336988: W tensorflow/c/c_api.cc:305] Operation '{name:'dense_4/BiasAdd' id:380 op device:{requested: '', assigned: ''} def:{{{node dense_4/BiasAdd}} = BiasAdd[T=DT_FLOAT, _has_manual_control_dependencies=true, data_format=\"NHWC\"](dense_4/MatMul, dense_4/BiasAdd/ReadVariableOp)}}' was changed by setting attribute after it was run by a session. This mutation will have no effect, and will trigger an error in the future. Either don't modify nodes after running them or create a new session.\n"
     ]
    }
   ],
   "source": [
    "preds, ale_std, epi_std = model.predict(np.array(test_features), num_samples=100, disentangle_uncertainty=True)"
   ]
  },
  {
   "cell_type": "code",
   "execution_count": 12,
   "id": "2f854f0c-255c-47d7-b130-cc603613feb9",
   "metadata": {},
   "outputs": [
    {
     "data": {
      "text/plain": [
       "25.47515160320023"
      ]
     },
     "execution_count": 12,
     "metadata": {},
     "output_type": "execute_result"
    }
   ],
   "source": [
    "mean_squared_error(preds, test_labels,)"
   ]
  },
  {
   "cell_type": "code",
   "execution_count": 13,
   "id": "c4da65f9-d142-488a-9df1-75458daeafeb",
   "metadata": {},
   "outputs": [
    {
     "data": {
      "text/plain": [
       "3.9472815660329967"
      ]
     },
     "execution_count": 13,
     "metadata": {},
     "output_type": "execute_result"
    }
   ],
   "source": [
    "from sklearn.metrics import mean_absolute_error\n",
    "mean_absolute_error(preds, test_labels)"
   ]
  },
  {
   "cell_type": "code",
   "execution_count": 14,
   "id": "f4c86dc3-e85d-47e4-8e17-ff559022f358",
   "metadata": {},
   "outputs": [
    {
     "name": "stdout",
     "output_type": "stream",
     "text": [
      "603.7401\n",
      "1.2813471e-05\n"
     ]
    }
   ],
   "source": [
    "print(ale_std.mean())\n",
    "print(epi_std.mean())"
   ]
  },
  {
   "cell_type": "code",
   "execution_count": 15,
   "id": "9c6675d0-d378-4ca3-a2c0-fc79ae621d66",
   "metadata": {},
   "outputs": [
    {
     "data": {
      "text/plain": [
       "(314, 9)"
      ]
     },
     "execution_count": 15,
     "metadata": {},
     "output_type": "execute_result"
    }
   ],
   "source": [
    "np.array(train_features).shape"
   ]
  },
  {
   "cell_type": "code",
   "execution_count": null,
   "id": "88854d54-e641-4098-a70f-b68f9dbcac6e",
   "metadata": {},
   "outputs": [],
   "source": []
  }
 ],
 "metadata": {
  "kernelspec": {
   "display_name": "Python 3 (ipykernel)",
   "language": "python",
   "name": "python3"
  },
  "language_info": {
   "codemirror_mode": {
    "name": "ipython",
    "version": 3
   },
   "file_extension": ".py",
   "mimetype": "text/x-python",
   "name": "python",
   "nbconvert_exporter": "python",
   "pygments_lexer": "ipython3",
   "version": "3.11.7"
  }
 },
 "nbformat": 4,
 "nbformat_minor": 5
}
