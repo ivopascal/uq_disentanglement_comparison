{
 "cells": [
  {
   "cell_type": "code",
   "execution_count": 21,
   "id": "67bb43a9-f266-4b16-9672-f506dae874a0",
   "metadata": {},
   "source": [
    "from sklearn.datasets import make_blobs\n",
    "import numpy as np\n",
    "from keras.models import Sequential, Model\n",
    "from keras_uncertainty.layers import StochasticDropout, SamplingSoftmax\n",
    "from keras_uncertainty.models import DisentangledStochasticClassifier, StochasticClassifier\n",
    "from keras.layers import Dense, Input, Dropout\n",
    "from keras_uncertainty.utils import numpy_entropy\n",
    "import matplotlib.pyplot as plt\n",
    "\n",
    "import sys\n",
    "\n",
    "sys.path.insert(1, '../')\n"
   ],
   "outputs": []
  },
  {
   "cell_type": "code",
   "execution_count": 24,
   "id": "dceff7a2-5142-4f66-b6c3-ad0f20719ff4",
   "metadata": {},
   "source": [
    "X, y = make_blobs(n_samples=500, n_features=2, centers=[[-1.5, 1.5],[0, -1.5]], random_state=0)\n",
    "BATCH_SIZE = 256\n",
    "NUM_SAMPLES = 100"
   ],
   "outputs": []
  },
  {
   "cell_type": "code",
   "execution_count": 25,
   "id": "5a14ec31-6f38-467a-ad95-3f0373e45d60",
   "metadata": {},
   "source": [
    "plt.scatter(X[:,0], X[:, 1], c=y)"
   ],
   "outputs": []
  },
  {
   "cell_type": "code",
   "execution_count": 26,
   "id": "d7dd7dab-64f7-443a-85f3-f6a842963517",
   "metadata": {},
   "source": [
    "from sklearn.utils import shuffle\n",
    "\n",
    "def partial_shuffle_dataset(X, y, percentage):\n",
    "    X_noisy, y_noisy = shuffle(X, y)\n",
    "    np.random.shuffle(y_noisy[:int(len(y_noisy) * percentage)])\n",
    "    X_noisy, y_noisy = shuffle(X_noisy, y_noisy)\n",
    "    return X_noisy, y_noisy\n",
    "\n",
    "X_noisy, y_noisy = partial_shuffle_dataset(X, y, percentage=0.1)\n",
    "plt.scatter(X_noisy[:,0], X_noisy[:, 1], c=y_noisy)"
   ],
   "outputs": []
  },
  {
   "cell_type": "code",
   "execution_count": 27,
   "id": "3c180025-6967-4fcd-b5da-1f9fd613f8cb",
   "metadata": {},
   "source": [
    "noises = np.arange(0, 1, 0.1)"
   ],
   "outputs": []
  },
  {
   "cell_type": "code",
   "execution_count": 40,
   "id": "20eeb61c-07e5-4e99-8581-6c4fb03553d8",
   "metadata": {
    "scrolled": true
   },
   "source": [
    "from disentanglement.models.architectures import get_blobs_dropout_architecture\n",
    "from disentanglement.models.entropy_models import mutual_information, expected_entropy, \\\n",
    "    train_entropy_model\n",
    "from disentanglement.models.multi_head_models import uncertainty, \\\n",
    "    train_disentangle_model\n",
    "from disentanglement.settings import BATCH_SIZE, NUM_SAMPLES, TEST_MODE\n",
    "from tqdm import tqdm\n",
    "from sklearn.metrics import accuracy_score\n",
    "\n",
    "\n",
    "X_test, y_test = make_blobs(n_samples=200, n_features=2, centers=[[-1.5, 1.5],[0, -1.5]], random_state=1)\n",
    "\n",
    "\n",
    "\n",
    "disentangling_accuracies = []\n",
    "disentangling_aleatorics = []\n",
    "disentangling_epistemics = []\n",
    "\n",
    "entropy_accuracies = []\n",
    "entropy_aleatorics = []\n",
    "entropy_epistemics = []\n",
    "\n",
    "epochs = 50\n",
    "architecture_func = get_blobs_dropout_architecture\n",
    "n_classes = 2\n",
    "\n",
    "for noise in tqdm(noises):\n",
    "    X_noisy, y_noisy = partial_shuffle_dataset(X, y, percentage=noise)\n",
    "    X_test_noisy, y_test_noisy = partial_shuffle_dataset(X_test, y_test, percentage=noise)\n",
    "\n",
    "    disentangle_model = train_disentangle_model(architecture_func, X_noisy, y_noisy, n_classes,\n",
    "                                                    epochs=epochs)\n",
    "    entropy_model = train_entropy_model(architecture_func, X_noisy, y_noisy, n_classes, epochs=epochs)\n",
    "\n",
    "    pred_mean, pred_ale_std, pred_epi_std = disentangle_model.predict(X_test_noisy, batch_size=BATCH_SIZE)\n",
    "    entropy_preds = entropy_model.predict_samples(X_test_noisy, num_samples=NUM_SAMPLES, batch_size=BATCH_SIZE)\n",
    "    disentangling_accuracies.append(accuracy_score(y_test_noisy, pred_mean.argmax(axis=1)))\n",
    "    disentangling_aleatorics.append(uncertainty(pred_ale_std).mean())\n",
    "    disentangling_epistemics.append(uncertainty(pred_epi_std).mean())\n",
    "\n",
    "    entropy_accuracies.append(accuracy_score(y_test_noisy, entropy_preds.mean(axis=0).argmax(axis=1)))\n",
    "    entropy_aleatorics.append(expected_entropy(entropy_preds).mean())\n",
    "    entropy_epistemics.append(mutual_information(entropy_preds).mean())\n",
    "    "
   ],
   "outputs": []
  },
  {
   "cell_type": "code",
   "execution_count": 41,
   "id": "68313c66-a1e6-4fe3-a55f-df7f51de857b",
   "metadata": {},
   "source": [
    "plt.plot(noises, disentangling_accuracies, label=\"Disentangling\")\n",
    "plt.plot(noises, entropy_accuracies, label=\"Entropy\")\n",
    "plt.legend()\n",
    "plt.show()"
   ],
   "outputs": []
  },
  {
   "cell_type": "code",
   "execution_count": 42,
   "id": "608b7597-84b3-4dfd-bb99-4936fd435a80",
   "metadata": {},
   "source": [
    "plt.plot(noises, disentangling_aleatorics, label=\"Aleatoric\")\n",
    "plt.plot(noises, disentangling_epistemics, label=\"Epistemic\")\n",
    "plt.title(\"Multi-Head\")\n",
    "plt.xlabel(\"Noise\")\n",
    "plt.ylabel(\"Uncertainty\")\n",
    "plt.legend()\n",
    "plt.show()"
   ],
   "outputs": []
  },
  {
   "cell_type": "code",
   "execution_count": 43,
   "id": "aa5d7671-777f-4f2c-a879-46c243ae3eec",
   "metadata": {},
   "source": [
    "plt.plot(noises, entropy_aleatorics, label=\"Aleatoric\")\n",
    "plt.plot(noises, entropy_epistemics, label=\"Epistemic\")\n",
    "plt.title(\"Entropy\")\n",
    "plt.xlabel(\"Noise\")\n",
    "plt.ylabel(\"Uncertainty\")\n",
    "plt.legend()\n",
    "plt.show()"
   ],
   "outputs": []
  },
  {
   "cell_type": "code",
   "execution_count": null,
   "id": "7b536aca-0af9-4bc3-a590-6d53e8670afb",
   "metadata": {},
   "source": [],
   "outputs": []
  }
 ],
 "metadata": {
  "kernelspec": {
   "display_name": "Python 3 (ipykernel)",
   "language": "python",
   "name": "python3"
  },
  "language_info": {
   "codemirror_mode": {
    "name": "ipython",
    "version": 3
   },
   "file_extension": ".py",
   "mimetype": "text/x-python",
   "name": "python",
   "nbconvert_exporter": "python",
   "pygments_lexer": "ipython3",
   "version": "3.11.7"
  }
 },
 "nbformat": 4,
 "nbformat_minor": 5
}
