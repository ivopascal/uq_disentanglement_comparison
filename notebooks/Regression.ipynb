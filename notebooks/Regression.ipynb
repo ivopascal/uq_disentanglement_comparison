{
 "cells": [
  {
   "cell_type": "code",
   "execution_count": 1,
   "id": "0a4d33a4-7a67-43ea-b887-7d3ca1e9b8dc",
   "metadata": {},
   "outputs": [],
   "source": [
    "import pandas as pd\n",
    "import numpy as np\n",
    "import keras\n",
    "from sklearn.preprocessing import StandardScaler\n",
    "\n",
    "from tensorflow.python.framework.ops import disable_eager_execution\n",
    "disable_eager_execution()\n",
    "\n",
    "\n",
    "url = 'http://archive.ics.uci.edu/ml/machine-learning-databases/auto-mpg/auto-mpg.data'\n",
    "column_names = ['MPG', 'Cylinders', 'Displacement', 'Horsepower', 'Weight',\n",
    "                'Acceleration', 'Model Year', 'Origin']\n",
    "\n",
    "raw_dataset = pd.read_csv(url, names=column_names,\n",
    "                          na_values='?', comment='\\t',\n",
    "                          sep=' ', skipinitialspace=True)\n",
    "dataset = raw_dataset.copy()\n",
    "dataset = dataset.dropna()\n",
    "\n",
    "dataset['Origin'] = dataset['Origin'].map({1: 'USA', 2: 'Europe', 3: 'Japan'})\n",
    "dataset = pd.get_dummies(dataset, columns=['Origin'], prefix='', prefix_sep='')\n",
    "train_dataset = dataset.sample(frac=0.8, random_state=0)\n",
    "test_dataset = dataset.drop(train_dataset.index)\n",
    "\n",
    "train_features = train_dataset.copy()\n",
    "test_features = test_dataset.copy()\n",
    "\n",
    "train_labels = train_features.pop('MPG')\n",
    "test_labels = test_features.pop('MPG')\n",
    "\n",
    "normalizer = StandardScaler()\n",
    "normalizer.fit(train_features)\n",
    "train_features = normalizer.transform(train_features)\n",
    "test_features = normalizer.transform(test_features)"
   ]
  },
  {
   "cell_type": "code",
   "execution_count": 2,
   "id": "2b1d182c-0bc4-47cc-bcbc-e8f239cb83a3",
   "metadata": {},
   "outputs": [],
   "source": [
    "train_labels"
   ]
  },
  {
   "cell_type": "code",
   "execution_count": 3,
   "id": "a8ba277d-cf71-4928-9ad2-2bffea55ba28",
   "metadata": {},
   "outputs": [],
   "source": [
    "from sklearn.linear_model import LinearRegression\n",
    "\n",
    "lr = LinearRegression()\n",
    "lr.fit(train_features, train_labels)\n",
    "print(f\"R2 = {lr.score(test_features, test_labels)}\")\n",
    "\n",
    "from sklearn.metrics import mean_squared_error\n",
    "\n",
    "print(f\"MSE = {mean_squared_error(lr.predict(test_features), test_labels)}\")"
   ]
  },
  {
   "cell_type": "code",
   "execution_count": 4,
   "id": "1c38b30c-bf7f-4f98-b9db-51b4856bdde1",
   "metadata": {},
   "outputs": [],
   "source": [
    "from keras import layers\n",
    "\n",
    "linear_model = keras.Sequential([\n",
    "    layers.Dense(units=16, activation='relu'),\n",
    "    layers.Dropout(rate=0.2),\n",
    "    # layers.Dense(units=16, activation='relu'),\n",
    "    # layers.Dropout(rate=0.2),\n",
    "    layers.Dense(units=1),\n",
    "])\n",
    "\n",
    "# linear_model = keras.Sequential([\n",
    "#     normalizer,\n",
    "#     layers.Dense(units=1),\n",
    "# ])\n",
    "\n",
    "linear_model.compile(    \n",
    "    optimizer=keras.optimizers.legacy.Adam(learning_rate=0.1),\n",
    "    loss='mse')"
   ]
  },
  {
   "cell_type": "code",
   "execution_count": 5,
   "id": "0be926b7-96f3-4e3b-b600-e70ebf787c69",
   "metadata": {},
   "outputs": [],
   "source": [
    "history = linear_model.fit(\n",
    "    train_features,\n",
    "    np.array(train_labels),\n",
    "    epochs=100,\n",
    "    # Suppress logging.\n",
    "    verbose=0,\n",
    "    # Calculate validation results on 20% of the training data.\n",
    "    validation_split = 0.2)"
   ]
  },
  {
   "cell_type": "code",
   "execution_count": 6,
   "id": "0da63a1f-fad3-45fa-aeb9-2107b88ae3ae",
   "metadata": {},
   "outputs": [],
   "source": [
    "pd.DataFrame(history.history).plot()\n",
    "pd.DataFrame(history.history).tail()"
   ]
  },
  {
   "cell_type": "code",
   "execution_count": 7,
   "id": "8103ad43-d0e9-40ec-abe6-35125ab1da6c",
   "metadata": {},
   "outputs": [],
   "source": [
    "train_features"
   ]
  },
  {
   "cell_type": "code",
   "execution_count": 8,
   "id": "337309a0-480a-4f95-b06c-b3d6d82e70d1",
   "metadata": {
    "scrolled": true
   },
   "outputs": [],
   "source": [
    "from disentanglement.models.architectures import get_dropout_from_backbone\n",
    "from disentanglement.models.gaussian_logits_models import train_gaussian_logits_model\n",
    "from tensorflow.keras import backend as K\n",
    "\n",
    "\n",
    "# disable_eager_execution()\n",
    "def get_auto_mpg_backbone(n_training_samples=0):\n",
    "    linear_model = keras.Sequential([\n",
    "        layers.Input(9),\n",
    "        layers.Dense(units=16, activation='relu')])\n",
    "    return linear_model"
   ]
  },
  {
   "cell_type": "code",
   "execution_count": 9,
   "id": "cafe54ed-0de6-414b-b8be-1ce30c438535",
   "metadata": {},
   "outputs": [],
   "source": [
    "def architecture(**_):\n",
    "    return get_dropout_from_backbone(backbone_func=get_auto_mpg_backbone, hidden_size=16)"
   ]
  },
  {
   "cell_type": "code",
   "execution_count": 10,
   "id": "98597b4a-488f-4aed-940f-1ea209a8d401",
   "metadata": {},
   "outputs": [],
   "source": [
    "model = train_gaussian_logits_model(architecture, np.array(train_features), np.array(train_labels), n_classes=0, epochs=100_000, regression=True)"
   ]
  },
  {
   "cell_type": "code",
   "execution_count": 11,
   "id": "776d4852-ce61-4683-92c2-b9a17f8624e0",
   "metadata": {},
   "outputs": [],
   "source": [
    "preds, ale_std, epi_std = model.predict(np.array(test_features), num_samples=100, disentangle_uncertainty=True)"
   ]
  },
  {
   "cell_type": "code",
   "execution_count": 12,
   "id": "2f854f0c-255c-47d7-b130-cc603613feb9",
   "metadata": {},
   "outputs": [],
   "source": [
    "mean_squared_error(preds, test_labels,)"
   ]
  },
  {
   "cell_type": "code",
   "execution_count": 13,
   "id": "c4da65f9-d142-488a-9df1-75458daeafeb",
   "metadata": {},
   "outputs": [],
   "source": [
    "from sklearn.metrics import mean_absolute_error\n",
    "mean_absolute_error(preds, test_labels)"
   ]
  },
  {
   "cell_type": "code",
   "execution_count": 14,
   "id": "f4c86dc3-e85d-47e4-8e17-ff559022f358",
   "metadata": {},
   "outputs": [],
   "source": [
    "print(ale_std.mean())\n",
    "print(epi_std.mean())"
   ]
  },
  {
   "cell_type": "code",
   "execution_count": 15,
   "id": "9c6675d0-d378-4ca3-a2c0-fc79ae621d66",
   "metadata": {},
   "outputs": [],
   "source": [
    "np.array(train_features).shape"
   ]
  },
  {
   "cell_type": "code",
   "execution_count": null,
   "id": "88854d54-e641-4098-a70f-b68f9dbcac6e",
   "metadata": {},
   "outputs": [],
   "source": []
  }
 ],
 "metadata": {
  "kernelspec": {
   "display_name": "Python 3 (ipykernel)",
   "language": "python",
   "name": "python3"
  },
  "language_info": {
   "codemirror_mode": {
    "name": "ipython",
    "version": 3
   },
   "file_extension": ".py",
   "mimetype": "text/x-python",
   "name": "python",
   "nbconvert_exporter": "python",
   "pygments_lexer": "ipython3",
   "version": "3.11.11"
  }
 },
 "nbformat": 4,
 "nbformat_minor": 5
}
