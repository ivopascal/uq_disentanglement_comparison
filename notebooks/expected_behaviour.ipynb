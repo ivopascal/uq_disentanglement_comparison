{
 "cells": [
  {
   "cell_type": "code",
   "execution_count": 131,
   "id": "69d5bfb4-87bd-418b-b3b7-64ce317bd935",
   "metadata": {},
   "source": [
    "import numpy as np\n",
    "import matplotlib.pyplot as plt\n",
    "plt.rcParams.update({'font.size': 17})\n"
   ],
   "outputs": []
  },
  {
   "cell_type": "code",
   "execution_count": 139,
   "id": "ee22fa03-a991-4916-b198-684e99e82ba3",
   "metadata": {},
   "source": [
    "x = np.arange(1, 100, 0.1)\n",
    "y = -np.log(x) + 5\n",
    "\n",
    "np.random.seed(0)\n",
    "y_ale = np.random.normal(0, scale=1/x) + 1.2\n",
    "\n",
    "y_acc = np.log(x)\n",
    "\n",
    "\n",
    "fig, ax1 = plt.subplots()\n",
    "\n",
    "ax2 = ax1.twinx()\n",
    "\n",
    "ax2.plot(x, y_acc, label=\"Accuracy\", c='g', linestyle='dashed')\n",
    "ax1.plot(x, y, label=\"Epistemic\")\n",
    "ax1.plot(x, y_ale, label=\"Aleatoric\")\n",
    "ax1.set_xlabel(\"Percentage of dataset used\")\n",
    "ax1.set_ylabel(\"Uncertainty\")\n",
    "ax1.set_yticks([])\n",
    "ax2.set_yticks([])\n",
    "\n",
    "ax2.set_ylabel(\"Accuracy\", c='g')\n",
    "\n",
    "fig.legend(bbox_to_anchor=(0.92, 0.75))\n",
    "plt.tight_layout()\n",
    "plt.savefig('../figures/expectation_dataset_size.pdf')\n",
    "plt.show()"
   ],
   "outputs": []
  },
  {
   "cell_type": "code",
   "execution_count": 140,
   "id": "7cb19073-f9fe-461a-bead-b0ded9dce9d8",
   "metadata": {},
   "source": [
    "x = np.arange(1, 100, 0.1)\n",
    "y_ale = x * 0.8 + 30\n",
    "y_epi = x * 0.1 + 10\n",
    "\n",
    "acc = x * -0.45 + 95\n",
    "\n",
    "\n",
    "fig, ax1 = plt.subplots()\n",
    "\n",
    "ax2 = ax1.twinx()\n",
    "\n",
    "ax1.plot(x, y_ale, label=\"Aleatoric\")\n",
    "ax1.plot(x, y_epi, label=\"Epistemic\")\n",
    "\n",
    "ax1.set_xlabel(\"Percentage labels shuffled\")\n",
    "ax1.set_ylabel('Uncertainty')\n",
    "ax1.set_yticks([])\n",
    "\n",
    "ax2.plot(x, acc, label=\"Accuracy\", c='g', linestyle='dashed')\n",
    "\n",
    "ax2.set_ylabel(\"Accuracy\", c='g')\n",
    "ax2.set_yticks([])\n",
    "ax2.set_ylim(0, 100)\n",
    "\n",
    "fig.legend(bbox_to_anchor=(0.92, 0.57))\n",
    "fig.tight_layout()\n",
    "plt.savefig('../figures/expectation_label_noise.pdf')\n",
    "\n"
   ],
   "outputs": []
  },
  {
   "cell_type": "code",
   "execution_count": 141,
   "id": "67bfd216-c8fe-4503-8116-68df811a9f60",
   "metadata": {},
   "source": [
    "x = np.arange(0, 1.01, 0.01)\n",
    "\n",
    "y_diag = x\n",
    "y_ale = np.sin(x* 2 * np.pi) * 0.05 + x\n",
    "y_epi = np.sqrt(1 - (x-1) ** 2)\n",
    "plt.plot(x, y_diag, c='black', linestyle='dashed', alpha=0.6)\n",
    "plt.plot(x, y_epi, label='Epistemic')\n",
    "plt.plot(x, y_ale, label='Aleatoric')\n",
    "plt.xlabel(\"False Positive Rate\")\n",
    "plt.ylabel(\"True Positive Rate\")\n",
    "plt.legend()\n",
    "plt.tight_layout()\n",
    "\n",
    "plt.savefig(\"../figures/expectation_ood.pdf\")\n",
    "plt.show()\n"
   ],
   "outputs": []
  },
  {
   "cell_type": "code",
   "execution_count": null,
   "id": "509a1125-ef43-4935-b9e5-83dd322a533c",
   "metadata": {},
   "source": [],
   "outputs": []
  },
  {
   "cell_type": "code",
   "execution_count": null,
   "id": "49c46725-bce8-44e8-895e-ec97c95f305b",
   "metadata": {},
   "source": [],
   "outputs": []
  }
 ],
 "metadata": {
  "kernelspec": {
   "display_name": "Python 3 (ipykernel)",
   "language": "python",
   "name": "python3"
  },
  "language_info": {
   "codemirror_mode": {
    "name": "ipython",
    "version": 3
   },
   "file_extension": ".py",
   "mimetype": "text/x-python",
   "name": "python",
   "nbconvert_exporter": "python",
   "pygments_lexer": "ipython3",
   "version": "3.11.7"
  }
 },
 "nbformat": 4,
 "nbformat_minor": 5
}
