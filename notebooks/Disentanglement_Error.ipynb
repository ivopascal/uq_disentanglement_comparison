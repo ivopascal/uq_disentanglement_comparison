{
 "cells": [
  {
   "cell_type": "code",
   "id": "c4320dbd-97bd-4cf9-8e5d-03e60cf052fd",
   "metadata": {
    "ExecuteTime": {
     "end_time": "2025-05-13T20:54:03.921507Z",
     "start_time": "2025-05-13T20:54:03.695598Z"
    }
   },
   "source": [
    "import os\n",
    "import pandas as pd\n",
    "\n",
    "def load_results(experiment_folder):\n",
    "  collection = {}\n",
    "  for file in os.listdir(experiment_folder):\n",
    "    if not file.endswith('.csv'):\n",
    "      continue\n",
    "    \n",
    "    if \"CIFAR10\" in file:\n",
    "      dataset = \"CIFAR10\"\n",
    "    elif \"Fashion MNIST\" in file:\n",
    "      dataset = \"Fashion MNIST\"\n",
    "    elif \"Motor Imagery BCI\" in file:\n",
    "      dataset = \"Motor Imagery BCI\"\n",
    "    elif \"Wine\" in file:\n",
    "      dataset = \"Wine\"\n",
    "    else:\n",
    "      dataset = None\n",
    "        \n",
    "    if \"Deep Ensemble\" in file:\n",
    "      model = \"Deep Ensemble\"\n",
    "    elif \"MC-Dropout\" in file:\n",
    "      model = \"MC-Dropout\"\n",
    "    elif \"MC-DropConnect\" in file:\n",
    "      model = \"MC-DropConnect\"\n",
    "    elif \"Flipout\" in file:\n",
    "      model = \"Flipout\"\n",
    "    else:\n",
    "      model = None\n",
    "  \n",
    "    if \"gaussian_logits\" in file:\n",
    "      disentanglement = \"gaussian_logits\"\n",
    "    else:\n",
    "      disentanglement = \"information_theoretic\"\n",
    "    \n",
    "    df = pd.read_csv(os.path.join(experiment_folder, file))\n",
    "    \n",
    "    if dataset and model:\n",
    "      if dataset in collection:\n",
    "        if model+\"_\"+disentanglement in collection[dataset]:\n",
    "              collection[dataset][model+\"_\"+disentanglement].append(df)\n",
    "        else:\n",
    "          collection[dataset][model+\"_\"+disentanglement] = [df]\n",
    "      else:\n",
    "        if disentanglement == \"gaussian_logits\":\n",
    "          collection[dataset] = {model + \"_gaussian_logits\": [df],\n",
    "                                 model + \"_information_theoretic\": []\n",
    "                                 }\n",
    "        else:\n",
    "          collection[dataset] = {model + \"_gaussian_logits\": [],\n",
    "                                 model + \"_information_theoretic\": [df]\n",
    "                                 }\n",
    "  return collection\n",
    "decreasing_dataset_collection = load_results(experiment_folder=\"./results_data_old_2/decreasing_dataset\")\n",
    "label_noise_collection = load_results(experiment_folder=\"./results_data_old_2/label_noise\")"
   ],
   "outputs": [],
   "execution_count": 67
  },
  {
   "metadata": {
    "ExecuteTime": {
     "end_time": "2025-05-14T10:28:38.040848Z",
     "start_time": "2025-05-14T10:28:37.957319Z"
    }
   },
   "cell_type": "code",
   "source": [
    "import numpy as np\n",
    "import itertools\n",
    "\n",
    "def calculate_disentanglement_error(decreasing_dataset_collection, label_noise_collection, dataset, model):\n",
    "  disentanglement_errors = []\n",
    "  for df_dataset, df_label_noise in zip(decreasing_dataset_collection[dataset][model], label_noise_collection[dataset][model]):\n",
    "    ale_cor_dataset = df_dataset['accuracies'].corr(df_dataset['aleatoric_uncertainties'] * -1)\n",
    "    epi_cor_dataset = df_dataset['accuracies'].corr(df_dataset['epistemic_uncertainties']* -1)\n",
    "    \n",
    "    ale_cor_label_noise = df_label_noise['accuracies'].corr(df_label_noise['aleatoric_uncertainties'] * -1)\n",
    "    epi_cor_label_noise = df_label_noise['accuracies'].corr(df_label_noise['epistemic_uncertainties'] * -1)\n",
    "    \n",
    "    disentanglement_error = np.mean([\n",
    "      np.abs(0 - ale_cor_dataset),\n",
    "      np.abs(1 - epi_cor_dataset ),\n",
    "      np.abs(1 - ale_cor_label_noise),\n",
    "      np.abs(0 - epi_cor_label_noise),\n",
    "    ]\n",
    "    )\n",
    "    disentanglement_errors.append(disentanglement_error)\n",
    "    \n",
    "  # print(f\"{np.mean(disentanglement_errors):.3f}+-{(2 * np.std(disentanglement_errors)) / len(disentanglement_errors):.3f}\")\n",
    "  return np.mean(disentanglement_errors), (2 * np.std(disentanglement_errors)) / 5\n",
    "\n",
    "  \n",
    "datasets = list(decreasing_dataset_collection.keys())\n",
    "models = list(decreasing_dataset_collection[datasets[0]].keys())\n",
    "\n",
    "final_results_mean = {model: [] for model in models}\n",
    "final_results_sem = {model: [] for model in models}\n",
    "for dataset, model in itertools.product(datasets, models):\n",
    "  dis_err_mean, dis_err_sem = calculate_disentanglement_error(decreasing_dataset_collection, label_noise_collection, dataset, model)\n",
    "  final_results_mean[model].append(dis_err_mean)\n",
    "  final_results_sem[model].append(dis_err_sem)\n",
    "  print(f\"Disentanglement Error for {dataset}, {model}: {np.mean(dis_err_mean):.3f} \\pm {dis_err_sem:.3f}\")\n",
    "  \n",
    "for model, means in final_results_mean.items():\n",
    "  print(f\"Mean Disentanglement Error for {model}: {np.mean(means):.3f}\")\n",
    "  \n",
    "for model, sem in final_results_sem.items():\n",
    "  print(f\"2SEM Disentanglement Error for {model}: {np.mean(sem):.3f}\")\n",
    "  \n",
    "# calculate_disentanglement_error(decreasing_dataset_collection, label_noise_collection, \"CIFAR10\", \"Deep Ensemble_gaussian_logits\")\n",
    "# calculate_disentanglement_error(decreasing_dataset_collection, label_noise_collection, \"CIFAR10\", \"Deep Ensemble_information_theoretic\")\n",
    "# calculate_disentanglement_error(decreasing_dataset_collection, label_noise_collection, \"CIFAR10\", \"Flipout_gaussian_logits\")\n",
    "# calculate_disentanglement_error(decreasing_dataset_collection, label_noise_collection, \"CIFAR10\", \"Flipout_information_theoretic\")\n"
   ],
   "id": "b56aaea72b49dc76",
   "outputs": [
    {
     "name": "stdout",
     "output_type": "stream",
     "text": [
      "Disentanglement Error for Fashion MNIST, Deep Ensemble_gaussian_logits: 0.439 \\pm 0.013\n",
      "Disentanglement Error for Fashion MNIST, Deep Ensemble_information_theoretic: 0.363 \\pm 0.030\n",
      "Disentanglement Error for Fashion MNIST, MC-Dropout_information_theoretic: 0.294 \\pm 0.032\n",
      "Disentanglement Error for Fashion MNIST, MC-Dropout_gaussian_logits: 0.673 \\pm 0.034\n",
      "Disentanglement Error for Fashion MNIST, Flipout_information_theoretic: 0.404 \\pm 0.016\n",
      "Disentanglement Error for Fashion MNIST, MC-DropConnect_gaussian_logits: 0.399 \\pm 0.022\n",
      "Disentanglement Error for Fashion MNIST, MC-DropConnect_information_theoretic: 0.320 \\pm 0.035\n",
      "Disentanglement Error for Fashion MNIST, Flipout_gaussian_logits: 0.480 \\pm 0.004\n",
      "Disentanglement Error for Wine, Deep Ensemble_gaussian_logits: 0.524 \\pm 0.054\n",
      "Disentanglement Error for Wine, Deep Ensemble_information_theoretic: 0.342 \\pm 0.022\n",
      "Disentanglement Error for Wine, MC-Dropout_information_theoretic: 0.645 \\pm 0.041\n",
      "Disentanglement Error for Wine, MC-Dropout_gaussian_logits: 0.778 \\pm 0.031\n",
      "Disentanglement Error for Wine, Flipout_information_theoretic: 0.476 \\pm 0.048\n",
      "Disentanglement Error for Wine, MC-DropConnect_gaussian_logits: 0.737 \\pm 0.080\n",
      "Disentanglement Error for Wine, MC-DropConnect_information_theoretic: 0.373 \\pm 0.070\n",
      "Disentanglement Error for Wine, Flipout_gaussian_logits: 0.490 \\pm 0.094\n",
      "Disentanglement Error for Motor Imagery BCI, Deep Ensemble_gaussian_logits: 0.737 \\pm 0.095\n",
      "Disentanglement Error for Motor Imagery BCI, Deep Ensemble_information_theoretic: 0.581 \\pm 0.082\n",
      "Disentanglement Error for Motor Imagery BCI, MC-Dropout_information_theoretic: 0.608 \\pm 0.062\n",
      "Disentanglement Error for Motor Imagery BCI, MC-Dropout_gaussian_logits: 0.803 \\pm 0.040\n",
      "Disentanglement Error for Motor Imagery BCI, Flipout_information_theoretic: 0.557 \\pm 0.039\n",
      "Disentanglement Error for Motor Imagery BCI, MC-DropConnect_gaussian_logits: 0.638 \\pm 0.055\n",
      "Disentanglement Error for Motor Imagery BCI, MC-DropConnect_information_theoretic: 0.811 \\pm 0.066\n",
      "Disentanglement Error for Motor Imagery BCI, Flipout_gaussian_logits: 0.639 \\pm 0.054\n",
      "Disentanglement Error for CIFAR10, Deep Ensemble_gaussian_logits: 0.659 \\pm 0.055\n",
      "Disentanglement Error for CIFAR10, Deep Ensemble_information_theoretic: 0.350 \\pm 0.023\n",
      "Disentanglement Error for CIFAR10, MC-Dropout_information_theoretic: 0.295 \\pm 0.014\n",
      "Disentanglement Error for CIFAR10, MC-Dropout_gaussian_logits: 0.661 \\pm 0.044\n",
      "Disentanglement Error for CIFAR10, Flipout_information_theoretic: 0.309 \\pm 0.044\n",
      "Disentanglement Error for CIFAR10, MC-DropConnect_gaussian_logits: 0.481 \\pm 0.006\n",
      "Disentanglement Error for CIFAR10, MC-DropConnect_information_theoretic: 0.331 \\pm 0.033\n",
      "Disentanglement Error for CIFAR10, Flipout_gaussian_logits: 0.418 \\pm 0.014\n",
      "Mean Disentanglement Error for Deep Ensemble_gaussian_logits: 0.590\n",
      "Mean Disentanglement Error for Deep Ensemble_information_theoretic: 0.409\n",
      "Mean Disentanglement Error for MC-Dropout_information_theoretic: 0.460\n",
      "Mean Disentanglement Error for MC-Dropout_gaussian_logits: 0.729\n",
      "Mean Disentanglement Error for Flipout_information_theoretic: 0.437\n",
      "Mean Disentanglement Error for MC-DropConnect_gaussian_logits: 0.564\n",
      "Mean Disentanglement Error for MC-DropConnect_information_theoretic: 0.459\n",
      "Mean Disentanglement Error for Flipout_gaussian_logits: 0.507\n",
      "2SEM Disentanglement Error for Deep Ensemble_gaussian_logits: 0.054\n",
      "2SEM Disentanglement Error for Deep Ensemble_information_theoretic: 0.039\n",
      "2SEM Disentanglement Error for MC-Dropout_information_theoretic: 0.037\n",
      "2SEM Disentanglement Error for MC-Dropout_gaussian_logits: 0.037\n",
      "2SEM Disentanglement Error for Flipout_information_theoretic: 0.037\n",
      "2SEM Disentanglement Error for MC-DropConnect_gaussian_logits: 0.041\n",
      "2SEM Disentanglement Error for MC-DropConnect_information_theoretic: 0.051\n",
      "2SEM Disentanglement Error for Flipout_gaussian_logits: 0.042\n"
     ]
    }
   ],
   "execution_count": 74
  },
  {
   "metadata": {
    "ExecuteTime": {
     "end_time": "2025-05-13T20:49:10.881103Z",
     "start_time": "2025-05-13T20:49:10.877895Z"
    }
   },
   "cell_type": "code",
   "source": [
    "print(label_noise_collection['CIFAR10'].keys())\n",
    "print(decreasing_dataset_collection['CIFAR10'].keys())\n"
   ],
   "id": "1284eb19c98fedab",
   "outputs": [
    {
     "name": "stdout",
     "output_type": "stream",
     "text": [
      "dict_keys(['MC-Dropout_gaussian_logits', 'MC-Dropout_information_theoretic', 'Flipout_gaussian_logits', 'Flipout_information_theoretic', 'Deep Ensemble_gaussian_logits', 'Deep Ensemble_information_theoretic'])\n",
      "dict_keys(['Deep Ensemble_gaussian_logits', 'Deep Ensemble_information_theoretic', 'Flipout_gaussian_logits', 'Flipout_information_theoretic'])\n"
     ]
    }
   ],
   "execution_count": 58
  },
  {
   "metadata": {},
   "cell_type": "code",
   "outputs": [],
   "execution_count": null,
   "source": "",
   "id": "fd9bde87c1104eb7"
  }
 ],
 "metadata": {
  "kernelspec": {
   "display_name": "Python 3 (ipykernel)",
   "language": "python",
   "name": "python3"
  },
  "language_info": {
   "codemirror_mode": {
    "name": "ipython",
    "version": 3
   },
   "file_extension": ".py",
   "mimetype": "text/x-python",
   "name": "python",
   "nbconvert_exporter": "python",
   "pygments_lexer": "ipython3",
   "version": "3.11.11"
  }
 },
 "nbformat": 4,
 "nbformat_minor": 5
}
