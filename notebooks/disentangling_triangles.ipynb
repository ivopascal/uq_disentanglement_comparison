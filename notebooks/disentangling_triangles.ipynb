{
 "cells": [
  {
   "cell_type": "code",
   "execution_count": 8,
   "id": "0f3ea582-cf03-4222-a1fe-0c992d5bbc48",
   "metadata": {},
   "source": [
    "import numpy as np\n",
    "import matplotlib.pyplot as plt\n",
    "import random\n",
    "import sys\n",
    "\n",
    "sys.path.insert(1, '../')"
   ],
   "outputs": []
  },
  {
   "cell_type": "code",
   "execution_count": 9,
   "id": "bbf25aea-71d2-4205-b7d9-24f54ab80e5f",
   "metadata": {},
   "source": [
    "def point_on_triangle(pt1, pt2, pt3):\n",
    "    \"\"\"\n",
    "    Random point on the triangle with vertices pt1, pt2 and pt3.\n",
    "    \"\"\"\n",
    "    x, y = random.random(), random.random()\n",
    "    q = abs(x - y)\n",
    "    s, t, u = q, 0.5 * (x + y - q), 1 - 0.5 * (q + x + y)\n",
    "    return (\n",
    "        s * pt1[0] + t * pt2[0] + u * pt3[0],\n",
    "        s * pt1[1] + t * pt2[1] + u * pt3[1],\n",
    "    )\n",
    "\n",
    "\n",
    "overlap_rate = 0.3\n",
    "end = 1\n",
    "traingle_length = 10\n",
    "overlap = end * overlap_rate\n",
    "n_samples = 5000\n",
    "\n",
    "\n",
    "class_1 = np.array([point_on_triangle((0, (end - overlap)/2), (traingle_length, -overlap), (traingle_length, end)) for i in range(int(n_samples/2))])\n",
    "class_2 = np.array([point_on_triangle((0, (end - overlap)/ -2), (traingle_length, overlap), (traingle_length, -end)) for i in range(int(n_samples/2))])\n",
    "\n",
    "plt.scatter(class_1[:, 0], class_1[:, 1])\n",
    "plt.scatter(class_2[:, 0], class_2[:, 1])"
   ],
   "outputs": []
  },
  {
   "cell_type": "code",
   "execution_count": 10,
   "id": "a7c6f427-798c-448b-a48d-533135d650f6",
   "metadata": {},
   "source": [
    "x= np.concatenate([class_1, class_2])\n",
    "y = np.concatenate([np.zeros(class_1.shape[0]), np.ones(class_2.shape[0])])"
   ],
   "outputs": []
  },
  {
   "cell_type": "code",
   "execution_count": 11,
   "id": "1afc6320-1985-46bc-b862-648892b2cf04",
   "metadata": {
    "scrolled": true
   },
   "source": [
    "from disentanglement.models.architectures import get_blobs_dropout_architecture\n",
    "from disentanglement.models.entropy_models import mutual_information, expected_entropy, \\\n",
    "    train_entropy_model\n",
    "from disentanglement.models.multi_head_models import uncertainty, \\\n",
    "    train_disentangle_model\n",
    "from disentanglement.settings import BATCH_SIZE, NUM_SAMPLES, TEST_MODE\n",
    "from tqdm import tqdm\n",
    "from sklearn.metrics import accuracy_score\n",
    "\n",
    "\n",
    "epochs = 50\n",
    "architecture_func = get_blobs_dropout_architecture\n",
    "n_classes = 2\n",
    "\n",
    "\n",
    "disentangle_model = train_disentangle_model(architecture_func, x, y, n_classes,\n",
    "                                                epochs=epochs)\n",
    "entropy_model = train_entropy_model(architecture_func, x, y, n_classes, epochs=epochs)\n"
   ],
   "outputs": []
  },
  {
   "cell_type": "code",
   "execution_count": 22,
   "id": "ee22cba7-cd05-40c7-a60c-72966cbb6638",
   "metadata": {},
   "source": [
    "\n",
    "res = 0.5\n",
    "min_x, max_x = [-2, -2 + res] , [15, 2 + res]\n",
    "\n",
    "xx, yy = np.meshgrid(np.arange(min_x[0], max_x[0], res), np.arange(min_x[1], max_x[1], res))\n",
    "domain = np.c_[xx.ravel(), yy.ravel()]\n"
   ],
   "outputs": []
  },
  {
   "cell_type": "code",
   "execution_count": 23,
   "id": "2a5f3453-bb97-4981-97a5-abf3982a7a45",
   "metadata": {},
   "source": [
    "pred_mean, pred_ale_std, pred_epi_std = disentangle_model.predict(domain, batch_size=BATCH_SIZE)\n",
    "entropy_preds = entropy_model.predict_samples(domain, num_samples=NUM_SAMPLES, batch_size=BATCH_SIZE)\n",
    "\n",
    "gauss_logits_aleatoric = uncertainty(pred_ale_std).reshape(xx.shape)\n",
    "gauss_logits_epistemic = uncertainty(pred_epi_std).reshape(xx.shape)\n",
    "\n",
    "it_aleatoric = expected_entropy(entropy_preds).reshape(xx.shape)\n",
    "it_epistemic = mutual_information(entropy_preds).reshape(xx.shape)"
   ],
   "outputs": []
  },
  {
   "cell_type": "code",
   "execution_count": 30,
   "id": "177bc74d-da8e-4572-9562-c0dbc2cd97f7",
   "metadata": {},
   "source": [
    "import matplotlib.pyplot as plt\n",
    "import matplotlib.pylab as pl\n",
    "from matplotlib.colors import ListedColormap\n",
    "cmap = pl.cm.binary\n",
    "my_cmap = cmap(np.arange(cmap.N))\n",
    "#my_cmap[:, 0] = 0.0\n",
    "my_cmap[:, -1] = 0.7\n",
    "my_cmap = ListedColormap(my_cmap)\n",
    "\n",
    "\n",
    "fig, axes =  plt.subplots(ncols=2, nrows=1, figsize=(8, 4), squeeze=False)    \n",
    "ax_ale = axes[0][0]\n",
    "ax_epi = axes[0][1]\n",
    "\n",
    "cf_ale = ax_ale.contourf(xx, yy, it_aleatoric, antialiased=True)\n",
    "ax_ale.scatter(x[:, 0], x[:, 1], c=y, cmap=my_cmap, alpha=0.05)\n",
    "ax_ale.get_xaxis().set_ticks([])\n",
    "ax_ale.get_yaxis().set_ticks([])\n",
    "ax_ale.autoscale(False)\n",
    "\n",
    "cf_epi = ax_epi.contourf(xx, yy, it_epistemic, antialiased=True)\n",
    "ax_epi.scatter(x[:, 0], x[:, 1], c=y, cmap=my_cmap, alpha=0.05)\n",
    "ax_epi.get_xaxis().set_ticks([])\n",
    "ax_epi.get_yaxis().set_ticks([])\n",
    "ax_epi.autoscale(False)\n",
    "\n",
    "ax_ale.set_title(\"Aleatoric uncertainty\")\n",
    "ax_epi.set_title(\"Epistemic uncertainty\")\n",
    "# ax_ale.set_title(\"Information Theoretic MC-Dropout\")\n",
    "\n",
    "\n",
    "# ax_ale = axes[0][1]\n",
    "# ax_epi = axes[1][1]\n",
    "\n",
    "# cf_ale = ax_ale.contourf(xx, yy, gauss_logits_aleatoric, antialiased=True)\n",
    "# ax_ale.scatter(x[:, 0], x[:, 1], c=y, cmap=my_cmap, alpha=0.05)\n",
    "# ax_ale.get_xaxis().set_ticks([])\n",
    "# ax_ale.get_yaxis().set_ticks([])\n",
    "# ax_ale.autoscale(False)\n",
    "\n",
    "# cf_epi = ax_epi.contourf(xx, yy, gauss_logits_epistemic, antialiased=True)\n",
    "# ax_epi.scatter(x[:, 0], x[:, 1], c=y, cmap=my_cmap, alpha=0.05)\n",
    "# ax_epi.get_xaxis().set_ticks([])\n",
    "# ax_epi.get_yaxis().set_ticks([])\n",
    "# ax_epi.autoscale(False)\n",
    "\n",
    "# ax_ale.set_ylabel(\"Aleatoric\")\n",
    "# ax_epi.set_ylabel(\"Epistemic\")\n",
    "# ax_ale.set_title(\"Gaussian logits MC-Dropout\")\n",
    "\n",
    "fig.tight_layout()\n",
    "plt.savefig('../figures/it_traingles.pdf')\n",
    "plt.show()"
   ],
   "outputs": []
  },
  {
   "cell_type": "code",
   "execution_count": null,
   "id": "b68f2d93-6840-4fed-b663-091b64861005",
   "metadata": {},
   "source": [],
   "outputs": []
  },
  {
   "cell_type": "code",
   "execution_count": null,
   "id": "c204cb46-590e-4acd-99d1-94cc1fa09c4f",
   "metadata": {},
   "source": [],
   "outputs": []
  }
 ],
 "metadata": {
  "kernelspec": {
   "display_name": "Python 3 (ipykernel)",
   "language": "python",
   "name": "python3"
  },
  "language_info": {
   "codemirror_mode": {
    "name": "ipython",
    "version": 3
   },
   "file_extension": ".py",
   "mimetype": "text/x-python",
   "name": "python",
   "nbconvert_exporter": "python",
   "pygments_lexer": "ipython3",
   "version": "3.11.7"
  }
 },
 "nbformat": 4,
 "nbformat_minor": 5
}
